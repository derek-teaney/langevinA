{
 "cells": [
  {
   "cell_type": "code",
   "execution_count": 26,
   "id": "thirty-spending",
   "metadata": {},
   "outputs": [],
   "source": [
    "import os \n",
    "import matplotlib as mpl \n",
    "import matplotlib.pyplot as plt \n",
    "import h5py\n",
    "from ipywidgets import interact, interactive, fixed, interact_manual\n",
    "import numpy as np\n",
    "from mpl_toolkits.mplot3d import Axes3D"
   ]
  },
  {
   "cell_type": "code",
   "execution_count": 83,
   "id": "found-cinema",
   "metadata": {},
   "outputs": [
    {
     "name": "stdout",
     "output_type": "stream",
     "text": [
      "mpicxx -Wall -Wwrite-strings -Wno-strict-aliasing -Wno-unknown-pragmas -fstack-protector -fno-stack-check -fvisibility=hidden -g   -std=c++14  -I/Users/eduardogrossi/pets/arch-darwin-c-debug/include -I/Users/eduardogrossi/pets/include -I/usr/local/Cellar/gsl/2.6/include  -c -o 3Dheat.o 3Dheat.cxx\n",
      "mpicxx -Wall -Wwrite-strings -Wno-strict-aliasing -Wno-unknown-pragmas -fstack-protector -fno-stack-check -fvisibility=hidden -g   -std=c++14  -I/Users/eduardogrossi/pets/arch-darwin-c-debug/include -I/Users/eduardogrossi/pets/include -I/usr/local/Cellar/gsl/2.6/include -L/Users/eduardogrossi/pets/arch-darwin-c-debug/lib -L/usr/local/Cellar/gsl/2.6/lib  -Wl,-rpath,/Users/eduardogrossi/pets/arch-darwin-c-debug/lib  -Wl,-rpath,/usr/local/Cellar/gsl/2.6/lib  -o 3Dheat.exe 3Dheat.o -lpetsc -lgsl -lgslcblas -lm -lm -lstdc++\n"
     ]
    }
   ],
   "source": [
    "!make"
   ]
  },
  {
   "cell_type": "code",
   "execution_count": 84,
   "id": "working-starter",
   "metadata": {},
   "outputs": [
    {
     "name": "stdout",
     "output_type": "stream",
     "text": [
      " hx = 0.0666667, hy = 0.0666667\n",
      "Timestep 0: step size = 0.05, time = 0.\n",
      "Timestep 1: step size = 0.05, time = 0.05\n",
      "Timestep 2: step size = 0.05, time = 0.1\n",
      "Timestep 3: step size = 0.05, time = 0.15\n",
      "Timestep 4: step size = 0.05, time = 0.2\n",
      "Timestep 5: step size = 0.05, time = 0.25\n",
      "Timestep 6: step size = 0.05, time = 0.3\n",
      "Timestep 7: step size = 0.05, time = 0.35\n",
      "Timestep 8: step size = 0.05, time = 0.4\n",
      "Timestep 9: step size = 0.05, time = 0.45\n",
      "Timestep 10: step size = 0.05, time = 0.5\n",
      "Timestep 11: step size = 0.05, time = 0.55\n",
      "Timestep 12: step size = 0.05, time = 0.6\n",
      "Timestep 13: step size = 0.05, time = 0.65\n",
      "Timestep 14: step size = 0.05, time = 0.7\n",
      "Timestep 15: step size = 0.05, time = 0.75\n",
      "Timestep 16: step size = 0.05, time = 0.8\n",
      "Timestep 17: step size = 0.05, time = 0.85\n",
      "Timestep 18: step size = 0.05, time = 0.9\n",
      "Timestep 19: step size = 0.05, time = 0.95\n",
      "Timestep 20: step size = 0.05, time = 1.\n"
     ]
    }
   ],
   "source": [
    "!mpiexec -n 1 3Dheat.exe "
   ]
  },
  {
   "cell_type": "code",
   "execution_count": 86,
   "id": "absent-beast",
   "metadata": {},
   "outputs": [
    {
     "name": "stdout",
     "output_type": "stream",
     "text": [
      "['Timestepsolution']\n",
      "Type of sol <class 'h5py._hl.dataset.Dataset'> (21, 16, 16, 16, 4)\n",
      "Type of dset <class 'numpy.ndarray'> (21, 16, 16, 16, 4)\n"
     ]
    }
   ],
   "source": [
    "with h5py.File('output.h5','r') as output:\n",
    "    print(list(output.keys()))\n",
    "    sol=output[\"Timestepsolution\"][\"solution\"]\n",
    "    print(\"Type of sol\", type(sol),sol.shape) \n",
    "    dset=sol[:,:,:,:]\n",
    "    print(\"Type of dset\", type(dset),dset.shape) \n",
    "    tcenter=dset[:,8,8,8,1:4]"
   ]
  },
  {
   "cell_type": "code",
   "execution_count": 82,
   "id": "rising-discharge",
   "metadata": {},
   "outputs": [
    {
     "data": {
      "application/vnd.jupyter.widget-view+json": {
       "model_id": "9c56dd69fe5948d8a8fb076acd0560df",
       "version_major": 2,
       "version_minor": 0
      },
      "text/plain": [
       "interactive(children=(IntSlider(value=5, description='i', max=10), Output()), _dom_classes=('widget-interact',…"
      ]
     },
     "metadata": {},
     "output_type": "display_data"
    }
   ],
   "source": [
    "def f(i):\n",
    "    plt.contourf(dset[i,:,:,8,1])\n",
    "   \n",
    "    plt.show()\n",
    "\n",
    "interactive_plot = interactive(f, i=(0, 10,1))\n",
    "interactive_plot"
   ]
  },
  {
   "cell_type": "code",
   "execution_count": 87,
   "id": "metropolitan-berkeley",
   "metadata": {},
   "outputs": [
    {
     "data": {
      "image/png": "[encoded data removed]",
      "text/plain": [
       "<Figure size 432x288 with 1 Axes>"
      ]
     },
     "metadata": {
      "needs_background": "light"
     },
     "output_type": "display_data"
    }
   ],
   "source": [
    "plt.plot(tcenter)\n",
    "plt.yscale('log')"
   ]
  },
  {
   "cell_type": "markdown",
   "id": "blank-advice",
   "metadata": {},
   "source": [
    "### "
   ]
  },
  {
   "cell_type": "code",
   "execution_count": null,
   "id": "marked-tuition",
   "metadata": {},
   "outputs": [],
   "source": []
  }
 ],
 "metadata": {
  "kernelspec": {
   "display_name": "Python 3",
   "language": "python",
   "name": "python3"
  },
  "language_info": {
   "codemirror_mode": {
    "name": "ipython",
    "version": 3
   },
   "file_extension": ".py",
   "mimetype": "text/x-python",
   "name": "python",
   "nbconvert_exporter": "python",
   "pygments_lexer": "ipython3",
   "version": "3.9.2"
  }
 },
 "nbformat": 4,
 "nbformat_minor": 5
}

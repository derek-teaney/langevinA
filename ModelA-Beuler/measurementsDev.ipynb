{
 "cells": [
  {
   "cell_type": "markdown",
   "id": "skilled-consistency",
   "metadata": {},
   "source": [
    "# Model A"
   ]
  },
  {
   "cell_type": "code",
   "execution_count": 100,
   "id": "dying-supplement",
   "metadata": {},
   "outputs": [],
   "source": [
    "import numpy as np\n",
    "import matplotlib.pyplot as plt\n",
    "import h5py"
   ]
  },
  {
   "cell_type": "code",
   "execution_count": 229,
   "id": "miniature-series",
   "metadata": {},
   "outputs": [
    {
     "name": "stdout",
     "output_type": "stream",
     "text": [
      "['phi', 'phidot', 'wallX_phi_0', 'wallX_phi_1', 'wallX_phi_2', 'wallX_phi_3', 'wallX_phi_4', 'wallX_phidot_0', 'wallX_phidot_1', 'wallX_phidot_2', 'wallX_phidot_3', 'wallX_phidot_4']\n"
     ]
    }
   ],
   "source": [
    "r = h5py.File('./data/N32/outputN32dt0005H0_01.h5','r')\n",
    "r = h5py.File('./output.h5','r')\n",
    "print(list(r.keys()))\n",
    "phi=np.asarray(r[\"phi\"])"
   ]
  },
  {
   "cell_type": "code",
   "execution_count": 168,
   "id": "83f845bc",
   "metadata": {},
   "outputs": [
    {
     "data": {
      "text/plain": [
       "array([0.16971794, 0.03486304, 0.05022888, 0.03803493, 0.93189395])"
      ]
     },
     "execution_count": 168,
     "metadata": {},
     "output_type": "execute_result"
    }
   ],
   "source": [
    "r[\"phi\"][0]"
   ]
  },
  {
   "cell_type": "code",
   "execution_count": 165,
   "id": "684166a5",
   "metadata": {},
   "outputs": [
    {
     "ename": "KeyError",
     "evalue": "\"Unable to open object (object 'wallY_phi_0' doesn't exist)\"",
     "output_type": "error",
     "traceback": [
      "\u001b[0;31m---------------------------------------------------------------------------\u001b[0m",
      "\u001b[0;31mKeyError\u001b[0m                                  Traceback (most recent call last)",
      "\u001b[0;32m<ipython-input-165-caa71b20b7f9>\u001b[0m in \u001b[0;36m<module>\u001b[0;34m\u001b[0m\n\u001b[0;32m----> 1\u001b[0;31m \u001b[0mnp\u001b[0m\u001b[0;34m.\u001b[0m\u001b[0msum\u001b[0m\u001b[0;34m(\u001b[0m\u001b[0mr\u001b[0m\u001b[0;34m[\u001b[0m\u001b[0;34m\"wallY_phi_0\"\u001b[0m\u001b[0;34m]\u001b[0m\u001b[0;34m[\u001b[0m\u001b[0;36m0\u001b[0m\u001b[0;34m]\u001b[0m\u001b[0;34m)\u001b[0m\u001b[0;34m/\u001b[0m\u001b[0;36m16.0\u001b[0m\u001b[0;34m\u001b[0m\u001b[0m\n\u001b[0m",
      "\u001b[0;32mh5py/_objects.pyx\u001b[0m in \u001b[0;36mh5py._objects.with_phil.wrapper\u001b[0;34m()\u001b[0m\n",
      "\u001b[0;32mh5py/_objects.pyx\u001b[0m in \u001b[0;36mh5py._objects.with_phil.wrapper\u001b[0;34m()\u001b[0m\n",
      "\u001b[0;32m~/miniconda3/lib/python3.7/site-packages/h5py/_hl/group.py\u001b[0m in \u001b[0;36m__getitem__\u001b[0;34m(self, name)\u001b[0m\n\u001b[1;32m    286\u001b[0m                 \u001b[0;32mraise\u001b[0m \u001b[0mValueError\u001b[0m\u001b[0;34m(\u001b[0m\u001b[0;34m\"Invalid HDF5 object reference\"\u001b[0m\u001b[0;34m)\u001b[0m\u001b[0;34m\u001b[0m\u001b[0m\n\u001b[1;32m    287\u001b[0m         \u001b[0;32melse\u001b[0m\u001b[0;34m:\u001b[0m\u001b[0;34m\u001b[0m\u001b[0m\n\u001b[0;32m--> 288\u001b[0;31m             \u001b[0moid\u001b[0m \u001b[0;34m=\u001b[0m \u001b[0mh5o\u001b[0m\u001b[0;34m.\u001b[0m\u001b[0mopen\u001b[0m\u001b[0;34m(\u001b[0m\u001b[0mself\u001b[0m\u001b[0;34m.\u001b[0m\u001b[0mid\u001b[0m\u001b[0;34m,\u001b[0m \u001b[0mself\u001b[0m\u001b[0;34m.\u001b[0m\u001b[0m_e\u001b[0m\u001b[0;34m(\u001b[0m\u001b[0mname\u001b[0m\u001b[0;34m)\u001b[0m\u001b[0;34m,\u001b[0m \u001b[0mlapl\u001b[0m\u001b[0;34m=\u001b[0m\u001b[0mself\u001b[0m\u001b[0;34m.\u001b[0m\u001b[0m_lapl\u001b[0m\u001b[0;34m)\u001b[0m\u001b[0;34m\u001b[0m\u001b[0m\n\u001b[0m\u001b[1;32m    289\u001b[0m \u001b[0;34m\u001b[0m\u001b[0m\n\u001b[1;32m    290\u001b[0m         \u001b[0motype\u001b[0m \u001b[0;34m=\u001b[0m \u001b[0mh5i\u001b[0m\u001b[0;34m.\u001b[0m\u001b[0mget_type\u001b[0m\u001b[0;34m(\u001b[0m\u001b[0moid\u001b[0m\u001b[0;34m)\u001b[0m\u001b[0;34m\u001b[0m\u001b[0m\n",
      "\u001b[0;32mh5py/_objects.pyx\u001b[0m in \u001b[0;36mh5py._objects.with_phil.wrapper\u001b[0;34m()\u001b[0m\n",
      "\u001b[0;32mh5py/_objects.pyx\u001b[0m in \u001b[0;36mh5py._objects.with_phil.wrapper\u001b[0;34m()\u001b[0m\n",
      "\u001b[0;32mh5py/h5o.pyx\u001b[0m in \u001b[0;36mh5py.h5o.open\u001b[0;34m()\u001b[0m\n",
      "\u001b[0;31mKeyError\u001b[0m: \"Unable to open object (object 'wallY_phi_0' doesn't exist)\""
     ]
    }
   ],
   "source": [
    "np.sum(r[\"wallY_phi_0\"][0])/16.0"
   ]
  },
  {
   "cell_type": "code",
   "execution_count": 230,
   "id": "vertical-jacksonville",
   "metadata": {},
   "outputs": [
    {
     "data": {
      "text/plain": [
       "[<matplotlib.lines.Line2D at 0x7f935ab0bba8>,\n",
       " <matplotlib.lines.Line2D at 0x7f934af93eb8>,\n",
       " <matplotlib.lines.Line2D at 0x7f934afa1048>,\n",
       " <matplotlib.lines.Line2D at 0x7f934afa1198>,\n",
       " <matplotlib.lines.Line2D at 0x7f934afa12e8>]"
      ]
     },
     "execution_count": 230,
     "metadata": {},
     "output_type": "execute_result"
    },
    {
     "data": {
      "image/png": "[encoded data removed]",
      "text/plain": [
       "<Figure size 432x288 with 1 Axes>"
      ]
     },
     "metadata": {
      "needs_background": "light"
     },
     "output_type": "display_data"
    }
   ],
   "source": [
    "plt.plot(r[\"phi\"])\n",
    "#plt.ylim([2,2.5])"
   ]
  },
  {
   "cell_type": "code",
   "execution_count": 201,
   "id": "skilled-bosnia",
   "metadata": {},
   "outputs": [],
   "source": [
    "import random\n",
    "\n",
    "\n",
    "class ConfResults:\n",
    "    def __init__(self,fn, thTime , decim):\n",
    "        self.fn = fn\n",
    "        self.thTime = thTime\n",
    "        self.decim = decim\n",
    "\n",
    "    def readAv(self):\n",
    "        r = h5py.File(self.fn,'r')\n",
    "        self.phi = np.asarray(r[\"phi\"])[self.thTime:]\n",
    "        self.phidot = np.asarray(r[\"phidot\"])[self.thTime:]\n",
    "        self.phiNorm = self.phi[:,-1]\n",
    "        self.phidotNorm = self.phidot[:,-1]\n",
    "    \n",
    "    def computeMag(self, direc = 0):\n",
    "        self.readAv()\n",
    "        self.mag, self.magErr = bootstrap(self.phi[:,direc],100) \n",
    "    def computePhiDot(self, direc = 0):\n",
    "        self.readAv()\n",
    "        self.avPhiDot, self.errPhiDot = bootstrap(self.phidot[:,direc],100) \n",
    "        \n",
    "    def wallXFourierNorm(self):\n",
    "        r = h5py.File(self.fn,'r')\n",
    "        #self.wallXphi = np.asarray([np.asarray(r[\"wallX_phi_0\"])[thTime:],np.asarray(r[\"wallX_phi_1\"])[thTime:],np.asarray(r[\"wallX_phi_2\"])[thTime:],np.asarray(r[\"wallX_phi_3\"])[thTime:]])\n",
    "        self.wallXphiNorm = np.asarray(r[\"wallX_phi_4\"])[self.thTime:]\n",
    "        Nx = len(self.wallXphiNorm[0])\n",
    "        ks = [2 * np.pi * i /float(Nx) for i in range(Nx)]\n",
    "        self.wallXphiNormF = np.zeros(np.shape(self.wallXphiNorm), dtype=complex)\n",
    "        for t in range(len(self.wallXphiNorm)):\n",
    "            self.wallXphiNormF[t] = np.fft.fft(self.wallXphiNorm[t])\n",
    "            #self.wallXphiNormF[t] = self.manualFourier(self.wallXphiNorm[t])\n",
    "    \n",
    "    def wallXFourier0(self):\n",
    "        r = h5py.File(self.fn,'r')\n",
    "        #self.wallXphi = np.asarray([np.asarray(r[\"wallX_phi_0\"])[thTime:],np.asarray(r[\"wallX_phi_1\"])[thTime:],np.asarray(r[\"wallX_phi_2\"])[thTime:],np.asarray(r[\"wallX_phi_3\"])[thTime:]])\n",
    "        self.wallXphi0 = np.asarray(r[\"wallX_phi_0\"])[self.thTime:]\n",
    "        Nx = len(self.wallXphi0[0])\n",
    "        ks = [2 * np.pi * i /float(Nx) for i in range(Nx)]\n",
    "        self.wallXphi0F = np.zeros(np.shape(self.wallXphi0), dtype=complex)\n",
    "        for t in range(len(self.wallXphi0)):\n",
    "            self.wallXphi0F[t] = np.fft.fft(self.wallXphi0[t])\n",
    "            #self.wallXphiNormF[t] = self.manualFourier(self.wallXphiNorm[t])\n",
    "        \n",
    "    def computeCttp(self, arr1, arr2, conn=False):\n",
    "        Npoints = len(arr1)\n",
    "        Cttp = np.zeros(Npoints, dtype=type(arr1[0]))\n",
    "        for tt in range(Npoints): #tt is the time difference\n",
    "            for t0 in range(0, Npoints - tt, self.decim): # t0 is the origin\n",
    "                Cttp[tt] += arr1[t0 + tt] * arr2[t0] \n",
    "                if conn:\n",
    "                  Cttp[tt] -= arr1[t0]*arr2[t0]\n",
    "            Cttp[tt]/=float(Npoints - tt)\n",
    "        return Cttp\n",
    "    \n",
    "    def computeCttpPhi(self):\n",
    "        self.CttpPhi = self.computeCttp(self.phiNorm, self.phiNorm)\n",
    "    def computeCttpPhidot(self):\n",
    "        self.CttpPhidot = self.computeCttp(self.phidotNorm, self.phidotNorm)\n",
    "    def computeCttpPhiPhidot(self):\n",
    "        self.CttpPhiPhidot = self.computeCttp(self.phiNorm, self.phidotNorm)\n",
    "    \n",
    "    # For testing purposes\n",
    "    def manualFourier(self, arr):\n",
    "        Nx = len(arr)\n",
    "        ks = [2 * np.pi * i /float(Nx) for i in range(Nx)]\n",
    "        arrF = np.zeros(Nx, dtype=complex)\n",
    "        for k in range(Nx):\n",
    "            for x in range(Nx):\n",
    "                arrF[k] += arr[x] * np.exp(-1j * x * ks[k] )\n",
    "    \n",
    "        return arrF\n",
    "    \n",
    "def bootstrap(arr, nSamples=100):\n",
    "    arr = np.asarray(arr)\n",
    "    #random.seed()\n",
    "    #bootstrapArr = []\n",
    "    #for n in range(nSamples):\n",
    "    #    newArr = np.zeros(np.shape(arr), dtype=arr.dtype)\n",
    "    #    for l in range(len(arr)):\n",
    "    #        newArr[l] = arr[random.randrange(0,len(arr))]\n",
    "    #    bootstrapArr.append(np.mean(newArr,axis = 0))\n",
    "    #\n",
    "    #bootstrapArr = np.asarray(bootstrapArr)\n",
    "    \n",
    "    #return (np.mean(bootstrapArr,axis = 0), np.std(bootstrapArr,axis = 0))\n",
    "    return (np.mean(arr,axis = 0), np.std(arr,axis = 0))\n",
    "    \n",
    "\n",
    "class EnsembleResults:\n",
    "    def __init__(self,fn, nEnd, nStart=0):\n",
    "        self.fnList = [fn +\"_\"+str(i)+\".h5\" for i in range(nStart,nEnd+1)]\n",
    "        self.nConf = nEnd-nStart+1\n",
    "    \n",
    "    def corFourierPhi(self, nTherm, nBoot, decim):\n",
    "        corrTot = []\n",
    "        for fn in self.fnList:\n",
    "            res = ConfResults(fn, nTherm,decim)\n",
    "            print(fn)\n",
    "            res.wallXFourierNorm()\n",
    "            Nx = len(res.wallXphiNormF[0])\n",
    "            corrTot.append([res.computeCttp(np.conj(res.wallXphiNormF[:,k]),res.wallXphiNormF[:,k]) for k in range(Nx)])\n",
    "            print(len(corrTot[-1][0]))\n",
    "            \n",
    "        self.corFourierPhiMean, self.corFourierPhiErr  = bootstrap(corrTot, nBoot)\n",
    "    def save(self, fn):\n",
    "            np.savetxt(fn,[self.corFourierPhiMean, self.corFourierPhiErr])"
   ]
  },
  {
   "cell_type": "code",
   "execution_count": 83,
   "id": "849d77e1",
   "metadata": {},
   "outputs": [
    {
     "name": "stdout",
     "output_type": "stream",
     "text": [
      "[ 2.56160799e+01+0.00000000e+00j -8.86368577e-02-6.12267668e-02j\n",
      "  9.25191244e-02-3.04928488e-02j  1.01719903e-01+6.17417601e-03j\n",
      " -1.54372650e-01+1.45564770e-01j -4.23818508e-02+3.65530791e-02j\n",
      " -1.68795429e-01-2.42254753e-02j  9.40541357e-03+7.28437315e-02j\n",
      " -6.18189194e-02-7.80445642e-15j  9.40541357e-03-7.28437315e-02j\n",
      " -1.68795429e-01+2.42254753e-02j -4.23818508e-02-3.65530791e-02j\n",
      " -1.54372650e-01-1.45564770e-01j  1.01719903e-01-6.17417601e-03j\n",
      "  9.25191244e-02+3.04928488e-02j -8.86368577e-02+6.12267668e-02j]\n",
      "[ 2.56160799e+01+0.j         -8.86368577e-02-0.06122677j\n",
      "  9.25191244e-02-0.03049285j  1.01719903e-01+0.00617418j\n",
      " -1.54372650e-01+0.14556477j -4.23818508e-02+0.03655308j\n",
      " -1.68795429e-01-0.02422548j  9.40541357e-03+0.07284373j\n",
      " -6.18189194e-02+0.j          9.40541357e-03-0.07284373j\n",
      " -1.68795429e-01+0.02422548j -4.23818508e-02-0.03655308j\n",
      " -1.54372650e-01-0.14556477j  1.01719903e-01-0.00617418j\n",
      "  9.25191244e-02+0.03049285j -8.86368577e-02+0.06122677j]\n"
     ]
    }
   ],
   "source": [
    "testManu = res.manualFourier(res.wallXphiNorm[2])\n",
    "testauto = np.fft.fft(res.wallXphiNorm[2])\n",
    "print(testManu)\n",
    "print(testauto)"
   ]
  },
  {
   "cell_type": "code",
   "execution_count": 48,
   "id": "955cf144",
   "metadata": {},
   "outputs": [
    {
     "name": "stdout",
     "output_type": "stream",
     "text": [
      "./N16_tests/seaw/run40n_14.h5\n",
      "9801\n",
      "./N16_tests/seaw/run40n_15.h5\n",
      "9801\n",
      "./N16_tests/seaw/run40n_16.h5\n",
      "9801\n",
      "./N16_tests/seaw/run40n_17.h5\n",
      "9801\n",
      "./N16_tests/seaw/run40n_18.h5\n",
      "9801\n"
     ]
    }
   ],
   "source": [
    "res = EnsembleResults('./data/N16_tests/seaw/run40n', 18,14)\n",
    "res.corFourierPhi(200,10,10)\n"
   ]
  },
  {
   "cell_type": "code",
   "execution_count": 191,
   "id": "91b8c026",
   "metadata": {},
   "outputs": [],
   "source": [
    "lRes = []\n",
    "lResErr = []\n",
    "\n",
    "for i in range(1):\n",
    "    res = ConfResults('./data/N32/outputN32dt0005H0_01.h5',40000,100)\n",
    "    res.computeMag(i)\n",
    "    lRes.append(res.mag)\n",
    "    lResErr.append(res.magErr)\n",
    "    \n"
   ]
  },
  {
   "cell_type": "code",
   "execution_count": 192,
   "id": "466bb4ba",
   "metadata": {},
   "outputs": [
    {
     "data": {
      "text/plain": [
       "[5.249556804618974e-05]"
      ]
     },
     "execution_count": 192,
     "metadata": {},
     "output_type": "execute_result"
    }
   ],
   "source": [
    "lResErr"
   ]
  },
  {
   "cell_type": "code",
   "execution_count": 177,
   "id": "78aa3ffd",
   "metadata": {},
   "outputs": [
    {
     "data": {
      "text/plain": [
       "100.0"
      ]
     },
     "execution_count": 177,
     "metadata": {},
     "output_type": "execute_result"
    }
   ],
   "source": [
    "20000*0.005"
   ]
  },
  {
   "cell_type": "code",
   "execution_count": 198,
   "id": "7ba606b1",
   "metadata": {},
   "outputs": [],
   "source": [
    "fns=[\"outputN32dt00003H0_01\", \"outputN32dt0001H0_01\", \"outputN32dt0005H0_01\", \"outputN32dt001H0_01\", \"outputN32dt005H0_01\"]\n",
    "\n",
    "resMag=[]\n",
    "resMagErr=[]\n",
    "dts = [0.0003, 0.001, 0.005, 0.01, 0.05]\n",
    "\n",
    "for i  in range(len(fns)):\n",
    "    res = ConfResults(\"./data/N32/\"+fns[i]+\".h5\",20000,10)\n",
    "    res.computeMag(0)\n",
    "    res.computePhiDot(0)\n",
    "    resMag.append(res.mag)\n",
    "    resMagErr.append(res.magErr)"
   ]
  },
  {
   "cell_type": "code",
   "execution_count": 199,
   "id": "f5cce3f6",
   "metadata": {},
   "outputs": [
    {
     "data": {
      "text/plain": [
       "[0.32812981295029203,\n",
       " 0.3260695351863463,\n",
       " 0.3296509470948854,\n",
       " 0.35448547740974357,\n",
       " 0.5183050415226178]"
      ]
     },
     "execution_count": 199,
     "metadata": {},
     "output_type": "execute_result"
    }
   ],
   "source": [
    "resMag"
   ]
  },
  {
   "cell_type": "code",
   "execution_count": 98,
   "id": "db19f8ea",
   "metadata": {},
   "outputs": [],
   "source": [
    "fns=[\"outputN32dt0001H0_001\", \"outputN32dt0005H0_001\", \"outputN32H0_001\"]\n",
    "\n",
    "resMag=[]\n",
    "resMagErr=[]\n",
    "dts = [0.001, 0.005, 0.01]\n",
    "\n",
    "for fn in fns:\n",
    "    res = ConfResults(\"./data/N32/\"+fn+\".h5\",20000,10)\n",
    "    res.computeMag(0)\n",
    "    res.computePhiDot(0)\n",
    "    resMag.append(res.mag)\n",
    "    resMagErr.append(res.magErr)"
   ]
  },
  {
   "cell_type": "code",
   "execution_count": 61,
   "id": "cdf5451d",
   "metadata": {},
   "outputs": [],
   "source": [
    "tmp.reverse()"
   ]
  },
  {
   "cell_type": "code",
   "execution_count": 200,
   "id": "f4322d3b",
   "metadata": {},
   "outputs": [
    {
     "data": {
      "image/png": "[encoded data removed]",
      "text/plain": [
       "<Figure size 432x288 with 1 Axes>"
      ]
     },
     "metadata": {
      "needs_background": "light"
     },
     "output_type": "display_data"
    }
   ],
   "source": [
    "plt.errorbar(dts[:-1], resMag[:-1],resMagErr[:-1])\n",
    "plt.xscale('log')"
   ]
  },
  {
   "cell_type": "code",
   "execution_count": 202,
   "id": "800b6c45",
   "metadata": {},
   "outputs": [],
   "source": [
    "res = ConfResults('./data/N32/outputN32dt0005H0_01.h5', 20000,10)"
   ]
  },
  {
   "cell_type": "code",
   "execution_count": 207,
   "id": "5b896122",
   "metadata": {},
   "outputs": [],
   "source": [
    "res.wallXFourier0()\n",
    "test=res.computeCttp(np.conj(res.wallXphi0F[:,1]),res.wallXphi0F[:,1])"
   ]
  },
  {
   "cell_type": "code",
   "execution_count": 190,
   "id": "909c86dd",
   "metadata": {},
   "outputs": [],
   "source": [
    "mean, err = bootstrap(res.corrTot,5)"
   ]
  },
  {
   "cell_type": "code",
   "execution_count": 152,
   "id": "39ca8250",
   "metadata": {},
   "outputs": [
    {
     "data": {
      "text/plain": [
       "(16, 301)"
      ]
     },
     "execution_count": 152,
     "metadata": {},
     "output_type": "execute_result"
    }
   ],
   "source": [
    "np.shape(mean)"
   ]
  },
  {
   "cell_type": "code",
   "execution_count": 113,
   "id": "26ab3a73",
   "metadata": {},
   "outputs": [],
   "source": [
    "res.wallXFourier()"
   ]
  },
  {
   "cell_type": "code",
   "execution_count": 116,
   "id": "14d4a98a",
   "metadata": {},
   "outputs": [],
   "source": [
    "test=res.computeCttp(np.conj(res.wallXphiNormF[:,1]),res.wallXphiNormF[:,1])"
   ]
  },
  {
   "cell_type": "code",
   "execution_count": 214,
   "id": "e3a0364b",
   "metadata": {},
   "outputs": [
    {
     "data": {
      "text/plain": [
       "[<matplotlib.lines.Line2D at 0x7f932a757f28>]"
      ]
     },
     "execution_count": 214,
     "metadata": {},
     "output_type": "execute_result"
    },
    {
     "data": {
      "image/png": "[encoded data removed]",
      "text/plain": [
       "<Figure size 432x288 with 1 Axes>"
      ]
     },
     "metadata": {
      "needs_background": "light"
     },
     "output_type": "display_data"
    }
   ],
   "source": [
    "plt.plot(np.real(test)[:3000])"
   ]
  },
  {
   "cell_type": "code",
   "execution_count": 220,
   "id": "f52eabfd",
   "metadata": {},
   "outputs": [
    {
     "data": {
      "text/plain": [
       "[<matplotlib.lines.Line2D at 0x7f935aa34518>]"
      ]
     },
     "execution_count": 220,
     "metadata": {},
     "output_type": "execute_result"
    },
    {
     "data": {
      "image/png": "[encoded data removed]",
      "text/plain": [
       "<Figure size 432x288 with 1 Axes>"
      ]
     },
     "metadata": {
      "needs_background": "light"
     },
     "output_type": "display_data"
    }
   ],
   "source": [
    "plt.plot(np.real(np.fft.fft(np.real(test)[:3000])))"
   ]
  },
  {
   "cell_type": "code",
   "execution_count": 33,
   "id": "67bd3a0d",
   "metadata": {},
   "outputs": [
    {
     "data": {
      "image/png": "[encoded data removed]",
      "text/plain": [
       "<Figure size 432x288 with 1 Axes>"
      ]
     },
     "metadata": {
      "needs_background": "light"
     },
     "output_type": "display_data"
    }
   ],
   "source": [
    "end=100\n",
    "dt = 0.01\n",
    "t = np.arange(len(res.corFourierPhiMean[1][0:end])) * dt\n",
    "plt.errorbar(t,np.real(res.corFourierPhiMean[1][0:end]),np.real(res.corFourierPhiErr[1][0:end]))\n",
    "plt.yscale('log')"
   ]
  },
  {
   "cell_type": "code",
   "execution_count": 61,
   "id": "8549b538",
   "metadata": {},
   "outputs": [
    {
     "ename": "AttributeError",
     "evalue": "'numpy.ndarray' object has no attribute 'flip'",
     "output_type": "error",
     "traceback": [
      "\u001b[0;31m---------------------------------------------------------------------------\u001b[0m",
      "\u001b[0;31mAttributeError\u001b[0m                            Traceback (most recent call last)",
      "\u001b[0;32m<ipython-input-61-32a48fbbac27>\u001b[0m in \u001b[0;36m<module>\u001b[0;34m\u001b[0m\n\u001b[1;32m      1\u001b[0m \u001b[0mfft\u001b[0m\u001b[0;34m[\u001b[0m\u001b[0;34m:\u001b[0m\u001b[0mint\u001b[0m\u001b[0;34m(\u001b[0m\u001b[0mlen\u001b[0m\u001b[0;34m(\u001b[0m\u001b[0mfft\u001b[0m\u001b[0;34m)\u001b[0m\u001b[0;34m/\u001b[0m\u001b[0;36m2\u001b[0m\u001b[0;34m)\u001b[0m\u001b[0;34m]\u001b[0m\u001b[0;34m\u001b[0m\u001b[0m\n\u001b[0;32m----> 2\u001b[0;31m \u001b[0mnp\u001b[0m\u001b[0;34m.\u001b[0m\u001b[0masarray\u001b[0m\u001b[0;34m(\u001b[0m\u001b[0mfft\u001b[0m\u001b[0;34m[\u001b[0m\u001b[0mint\u001b[0m\u001b[0;34m(\u001b[0m\u001b[0mlen\u001b[0m\u001b[0;34m(\u001b[0m\u001b[0mfft\u001b[0m\u001b[0;34m)\u001b[0m\u001b[0;34m/\u001b[0m\u001b[0;36m2\u001b[0m\u001b[0;34m+\u001b[0m\u001b[0;36m1\u001b[0m\u001b[0;34m)\u001b[0m\u001b[0;34m:\u001b[0m\u001b[0;34m]\u001b[0m\u001b[0;34m)\u001b[0m\u001b[0;34m.\u001b[0m\u001b[0mflip\u001b[0m\u001b[0;34m(\u001b[0m\u001b[0;34m)\u001b[0m\u001b[0;34m\u001b[0m\u001b[0m\n\u001b[0m",
      "\u001b[0;31mAttributeError\u001b[0m: 'numpy.ndarray' object has no attribute 'flip'"
     ]
    }
   ],
   "source": [
    "fft[:int(len(fft)/2)]\n",
    "np.asarray(fft[int(len(fft)/2+1):]).flip()"
   ]
  },
  {
   "cell_type": "code",
   "execution_count": 52,
   "id": "fcccaac6",
   "metadata": {},
   "outputs": [
    {
     "ename": "TypeError",
     "evalue": "only integer scalar arrays can be converted to a scalar index",
     "output_type": "error",
     "traceback": [
      "\u001b[0;31m---------------------------------------------------------------------------\u001b[0m",
      "\u001b[0;31mTypeError\u001b[0m                                 Traceback (most recent call last)",
      "\u001b[0;32m<ipython-input-52-2871ba6eb483>\u001b[0m in \u001b[0;36m<module>\u001b[0;34m\u001b[0m\n\u001b[1;32m      1\u001b[0m \u001b[0mfft\u001b[0m\u001b[0;34m=\u001b[0m\u001b[0mnp\u001b[0m\u001b[0;34m.\u001b[0m\u001b[0mfft\u001b[0m\u001b[0;34m.\u001b[0m\u001b[0mfft\u001b[0m\u001b[0;34m(\u001b[0m\u001b[0mres\u001b[0m\u001b[0;34m.\u001b[0m\u001b[0mcorFourierPhiMean\u001b[0m\u001b[0;34m[\u001b[0m\u001b[0;36m4\u001b[0m\u001b[0;34m]\u001b[0m\u001b[0;34m[\u001b[0m\u001b[0;36m0\u001b[0m\u001b[0;34m:\u001b[0m\u001b[0;36m100\u001b[0m\u001b[0;34m]\u001b[0m\u001b[0;34m)\u001b[0m\u001b[0;34m\u001b[0m\u001b[0m\n\u001b[0;32m----> 2\u001b[0;31m \u001b[0mfft\u001b[0m\u001b[0;34m=\u001b[0m\u001b[0mnp\u001b[0m\u001b[0;34m.\u001b[0m\u001b[0mconcatenate\u001b[0m\u001b[0;34m(\u001b[0m\u001b[0mfft\u001b[0m\u001b[0;34m[\u001b[0m\u001b[0;34m:\u001b[0m\u001b[0mint\u001b[0m\u001b[0;34m(\u001b[0m\u001b[0mlen\u001b[0m\u001b[0;34m(\u001b[0m\u001b[0mfft\u001b[0m\u001b[0;34m)\u001b[0m\u001b[0;34m/\u001b[0m\u001b[0;36m2\u001b[0m\u001b[0;34m)\u001b[0m\u001b[0;34m]\u001b[0m\u001b[0;34m,\u001b[0m\u001b[0mfft\u001b[0m\u001b[0;34m[\u001b[0m\u001b[0;34m-\u001b[0m\u001b[0;36m1\u001b[0m\u001b[0;34m:\u001b[0m\u001b[0mint\u001b[0m\u001b[0;34m(\u001b[0m\u001b[0mlen\u001b[0m\u001b[0;34m(\u001b[0m\u001b[0mfft\u001b[0m\u001b[0;34m)\u001b[0m\u001b[0;34m/\u001b[0m\u001b[0;36m2\u001b[0m\u001b[0;34m+\u001b[0m\u001b[0;36m1\u001b[0m\u001b[0;34m)\u001b[0m\u001b[0;34m]\u001b[0m\u001b[0;34m)\u001b[0m\u001b[0;34m\u001b[0m\u001b[0m\n\u001b[0m",
      "\u001b[0;32m<__array_function__ internals>\u001b[0m in \u001b[0;36mconcatenate\u001b[0;34m(*args, **kwargs)\u001b[0m\n",
      "\u001b[0;31mTypeError\u001b[0m: only integer scalar arrays can be converted to a scalar index"
     ]
    }
   ],
   "source": [
    "fft=np.fft.fft(res.corFourierPhiMean[4][0:100])\n",
    "fft=np.concatenate(fft[:int(len(fft)/2)],fft[-1:int(len(fft)/2+1)])"
   ]
  },
  {
   "cell_type": "code",
   "execution_count": null,
   "id": "97b8a2ff",
   "metadata": {},
   "outputs": [],
   "source": []
  },
  {
   "cell_type": "code",
   "execution_count": 32,
   "id": "f2168b03",
   "metadata": {},
   "outputs": [
    {
     "name": "stdout",
     "output_type": "stream",
     "text": [
      "[ 0.03980615  0.00921391  0.00448425 -0.00629541  0.13847117  0.18007944\n",
      "  0.18124877  0.25109351  0.27025765  0.22871868  0.28205302  0.18860907\n",
      "  0.0910679   0.11848171  0.03691116  0.03114464]\n",
      "[0.06629917 0.13449335 0.22304684 0.33576112 0.3886682  0.38745133\n",
      " 0.39043144 0.32277384 0.20377822 0.18944155 0.22025963 0.20037172\n",
      " 0.20758677 0.17045621 0.1095648  0.15142416]\n",
      "[-1.97070256 -1.96663464 -1.95699276 -1.92538197 -1.93809525 -2.05809571\n",
      " -2.00253098 -2.02835163 -2.04785177 -2.06632884 -2.12208639 -2.15115059\n",
      " -2.09956571 -2.02178736 -1.96218925 -1.99521995]\n",
      "[-1.81456117 -1.79362135 -1.76388443 -1.82248324 -1.82312704 -1.69377328\n",
      " -1.71348992 -1.68470556 -1.72449619 -1.66984524 -1.5642932  -1.56867645\n",
      " -1.65756129 -1.74702555 -1.80289948 -1.74809884]\n"
     ]
    }
   ],
   "source": [
    "print(res.wallXphi[0][0])\n",
    "print(res.wallXphi[1][0])\n",
    "print(res.wallXphi[2][0])\n",
    "print(res.wallXphi[3][0])"
   ]
  },
  {
   "cell_type": "code",
   "execution_count": 42,
   "id": "solar-wagon",
   "metadata": {},
   "outputs": [
    {
     "data": {
      "image/png": "[encoded data removed]",
      "text/plain": [
       "<Figure size 432x288 with 1 Axes>"
      ]
     },
     "metadata": {
      "needs_background": "light"
     },
     "output_type": "display_data"
    },
    {
     "data": {
      "image/png": "[encoded data removed]",
      "text/plain": [
       "<Figure size 432x288 with 1 Axes>"
      ]
     },
     "metadata": {
      "needs_background": "light"
     },
     "output_type": "display_data"
    },
    {
     "data": {
      "image/png": "[encoded data removed]",
      "text/plain": [
       "<Figure size 432x288 with 1 Axes>"
      ]
     },
     "metadata": {
      "needs_background": "light"
     },
     "output_type": "display_data"
    }
   ],
   "source": [
    "res = Results('./N16_tests/outputN16_1.h5',200)\n",
    "res.computeCttpPhi()\n",
    "res.computeCttpPhidot()\n",
    "res.computeCttpPhiPhidot()\n",
    "\n",
    "end =50\n",
    "dt = 0.1\n",
    "t = np.arange(len(res.CttpPhi[:end])) * dt\n",
    "plt.figure(0)\n",
    "plt.plot(t,res.CttpPhi[:end])\n",
    "plt.figure(1)\n",
    "plt.plot(t,res.CttpPhidot[:end])\n",
    "plt.figure(2)\n",
    "plt.plot(t,res.CttpPhiPhidot[:end])\n",
    "plt.show()"
   ]
  },
  {
   "cell_type": "code",
   "execution_count": 7,
   "id": "vocal-commitment",
   "metadata": {},
   "outputs": [
    {
     "name": "stdout",
     "output_type": "stream",
     "text": [
      "#Magnetic field\r\n",
      "H = 0.01\r\n",
      "\r\n",
      "#Lattice size\r\n",
      "NX = 16\r\n",
      "NY = 16\r\n",
      "NZ = 16\r\n",
      "\r\n",
      "#Lattice length L = N dx\r\n",
      "LX = 15\r\n",
      "LY = 15\r\n",
      "LZ = 15\r\n",
      "\r\n",
      "#N in O(N)\r\n",
      "Ndof = 4\r\n",
      "\r\n",
      "\r\n",
      "#Times and timestep\r\n",
      "finaltime = 50\r\n",
      "initialtime = 0\r\n",
      "deltat    = 0.01\r\n",
      "saveFreq = 0.1\r\n",
      "\r\n",
      "#Parameters\r\n",
      "mass = -10\r\n",
      "lambda  = 1.25\r\n",
      "gamma  = 1\r\n",
      "\r\n",
      "# Set to 0 or don't pass to have a random seed\r\n",
      "#seed = 12235456\r\n",
      "\r\n",
      "\r\n",
      "#output tag\r\n",
      "output = output\r\n"
     ]
    }
   ],
   "source": [
    "!cat input.in"
   ]
  },
  {
   "cell_type": "code",
   "execution_count": null,
   "id": "missing-drunk",
   "metadata": {},
   "outputs": [],
   "source": []
  }
 ],
 "metadata": {
  "kernelspec": {
   "display_name": "Python 3",
   "language": "python",
   "name": "python3"
  },
  "language_info": {
   "codemirror_mode": {
    "name": "ipython",
    "version": 3
   },
   "file_extension": ".py",
   "mimetype": "text/x-python",
   "name": "python",
   "nbconvert_exporter": "python",
   "pygments_lexer": "ipython3",
   "version": "3.7.0"
  }
 },
 "nbformat": 4,
 "nbformat_minor": 5
}

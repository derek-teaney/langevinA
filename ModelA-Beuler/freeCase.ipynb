{
 "cells": [
  {
   "cell_type": "markdown",
   "id": "8e2c76de",
   "metadata": {},
   "source": [
    "$$\n",
    "\\newcommand{\\dr}{\\partial}\n",
    "\\newcommand{\\dd}{\\mathrm{d}}\n",
    "\\newcommand{\\weffsq}{\\tilde\\omega_n^2 }\n",
    "$$"
   ]
  },
  {
   "cell_type": "code",
   "execution_count": 2,
   "id": "3926d8d9",
   "metadata": {},
   "outputs": [],
   "source": [
    "from measurements import ConfResults, EnsembleResults"
   ]
  },
  {
   "cell_type": "code",
   "execution_count": 3,
   "id": "e571250d",
   "metadata": {},
   "outputs": [],
   "source": [
    "import h5py\n",
    "import matplotlib.pyplot as plt\n",
    "import numpy as np\n",
    "import subprocess\n"
   ]
  },
  {
   "cell_type": "markdown",
   "id": "6309168a",
   "metadata": {},
   "source": [
    "# Free case"
   ]
  },
  {
   "cell_type": "markdown",
   "id": "9dbc2f70",
   "metadata": {},
   "source": [
    "In this notebook we consider the free case\n",
    "\n",
    "$$\n",
    "\\dr_t \\phi = -\\Gamma\\left(-\\Delta +m^2\\right)\\phi+ \\xi\n",
    "$$\n",
    "\n",
    "with $\\Delta \\phi = \\frac{1}{a}\\left(\\sum_i \\phi_{+i}+\\sum_i\\phi_{-i}-6\\phi\\right)$. In Fourier space, this reads\n",
    "\n",
    "$$\n",
    "\\begin{align}\n",
    "\\dr_t \\phi_n &= -\\Gamma(\\tilde k_n^2+m^2)\\phi_n + \\xi\\\\\n",
    "&=-\\Gamma \\tilde\\weffsq\\phi_n + \\xi\n",
    "\\end{align}\n",
    "$$\n",
    "\n",
    "and $\\tilde k$ is a lattice momentum $-\\tilde k^2_n=\\frac{2}{a}\\left(\\cos\\left(\\frac{2 \\pi n }{N}\\right) - 1\\right)$."
   ]
  },
  {
   "cell_type": "markdown",
   "id": "d8b405f0",
   "metadata": {},
   "source": [
    "### Forward Euler\n",
    "\n",
    "$$\n",
    "\\begin{align}\n",
    "\\phi_n^s=\\phi_n^{s-1}-\\dd t \\Gamma \\weffsq\\phi_n^{s-1} + W^s\\dd t \\\\\n",
    "\\implies \\phi_n^s = (1-\\dd t \\Gamma \\weffsq)\\phi_n^{s-1}+W^s\\dd t \n",
    "\\end{align}\n",
    "$$\n",
    "\n",
    "We can solve this recursion\n",
    "\n",
    "$$\n",
    "\\begin{align}\n",
    "\\phi_n^1 &= W^1\\dd t  \\\\ \n",
    "\\phi_n^2 & = (1-\\dd t \\Gamma \\weffsq)W^1\\dd t +W^2\\dd t  \\\\\n",
    "\\phi_n^S & = \\sum_{s=1}^S ((1-\\dd t \\Gamma \\weffsq)^{S-s})W^s\\dd t  \\ ,\n",
    "\\end{align}\n",
    "$$\n",
    "\n",
    "and compute moments. In particular, we get (the $W$s are independent)\n",
    "\n",
    "$$\n",
    "\\begin{align}\n",
    "\\left<\\phi_n^S \\phi_{-n}^S\\right> & =2\\Gamma \\dd t \\sum_{s=1}^S (1-\\dd t \\Gamma \\weffsq)^{2(S-s)}) \\\\\n",
    "&=\\frac{2}{\\weffsq(2-\\Gamma \\weffsq dt)} \\left(1-(1-\\dd t \\Gamma \\weffsq)^{2S})\\right)\n",
    "\\end{align}\n",
    "$$"
   ]
  },
  {
   "cell_type": "markdown",
   "id": "5e3b5b85",
   "metadata": {},
   "source": [
    "### Backward Euler\n",
    "\n",
    "$$\n",
    "\\begin{align}\n",
    "\\phi_n^s=\\phi_n^{s-1}-\\dd t \\Gamma \\weffsq\\phi_n^s + W^s\\dd t \\\\\n",
    "\\implies \\phi_n^s = \\frac{1}{1+\\dd t \\Gamma \\weffsq}\\left(\\phi_n^{s-1}+W^s\\dd t \\right)\n",
    "\\end{align}\n",
    "$$\n",
    "\n",
    "We can solve this recursion\n",
    "\n",
    "$$\n",
    "\\begin{align}\n",
    "\\phi_n^1 &= \\frac{W^1\\dd t }{1+\\dd t \\Gamma \\weffsq} \\\\ \n",
    "\\phi_n^2 & = \\frac{W^1\\dd t }{(1+\\dd t \\Gamma \\weffsq)^2} + \\frac{W^2\\dd t }{1+\\dd t \\Gamma \\weffsq} \\\\\n",
    "\\phi_n^S & = \\sum_{s=1}^S \\frac{W^s\\dd t }{(1+\\dd t \\Gamma \\weffsq)^{S+1-s}} \\ ,\n",
    "\\end{align}\n",
    "$$\n",
    "\n",
    "and compute moments. In particular, we get (the $W$s are independent)\n",
    "\n",
    "$$\n",
    "\\begin{align}\n",
    "\\left<\\phi_n^S \\phi_{-n}^S\\right> & =2\\Gamma \\dd t \\sum_{s=1}^S \\frac{1}{(1+\\dd t \\Gamma \\weffsq)^{2(S+1-s)}} \\\\\n",
    "&=\\frac{2\\Gamma \\dd t}{2\\dd t \\Gamma \\weffsq +\\dd t^2 \\Gamma^2 \\tilde\\omega_n^4 } \\left(1-\\frac{1}{(1+\\dd t \\Gamma \\weffsq)^{2S}}\\right)\n",
    "\\end{align}\n",
    "$$\n"
   ]
  },
  {
   "cell_type": "code",
   "execution_count": 88,
   "id": "07bb3a57",
   "metadata": {},
   "outputs": [],
   "source": [
    "def free2ptBE(n, m2, dt, N, Γ=1, a=1, S=np.inf):\n",
    "    kn2 = -2.0 / a * (np.cos((2.0 * np.pi) * n / N) - 1.0)\n",
    "    ω2n = m2 + kn2\n",
    "    \n",
    "    \n",
    "    res = 2 * Γ * dt / (2 * Γ * dt * ω2n + dt**2 * Γ**2 * ω2n**2)\n",
    "    \n",
    "    if not S==np.inf:\n",
    "        res *=(1.0 - 1.0 /(1.0 + Γ * dt * ω2n )**(2.0*S) )\n",
    "    \n",
    "    return res\n",
    "\n",
    "def free2ptFE(n, m2, dt, N, Γ=1, a=1, S=np.inf):\n",
    "    kn2 = -2.0 / a * (np.cos((2.0 * np.pi * n) / N) - 1.0)\n",
    "    ω2n = m2 + kn2\n",
    "    \n",
    "    \n",
    "    res = 2.0 / ω2n  / (2.0  - dt * Γ * ω2n)\n",
    "    \n",
    "    if not S==np.inf:\n",
    "        res *=(1.0 - (1.0 - Γ * dt * ω2n )**(2.0*S) )\n",
    "    \n",
    "    return res\n",
    "\n",
    "def free2pt(n, m2, dt, N, Γ=1, a=1, S=np.inf):\n",
    "    kn2 = -2.0 / a * (np.cos((2.0 * np.pi * n) / N) - 1.0)\n",
    "    ω2n = m2 + kn2\n",
    "    \n",
    "    return 1.0 / ω2n\n",
    "    "
   ]
  },
  {
   "cell_type": "code",
   "execution_count": 122,
   "id": "10100f13",
   "metadata": {},
   "outputs": [],
   "source": [
    "def runFreeModelA(eType, dt, nSteps, nSamples):\n",
    "    final = nSteps * dt\n",
    "    for i in range(nSamples):\n",
    "        oname = \"./freeCase/freeCase{}_{}\".format(\"BE\" if eType==1 else \"FE\", i)\n",
    "        cmd = \"mpirun -n 2 ModelA-Beuler.exe input=inputFree.in deltat={} finaltime={} saveFreq={} output={} evolverType={} seed={}\".format(dt, final, dt, oname, eType,i)\n",
    "        print(cmd,end=\"\\r\")\n",
    "        subprocess.run(cmd.split(), stdout=subprocess.DEVNULL)"
   ]
  },
  {
   "cell_type": "code",
   "execution_count": 123,
   "id": "2b1b7e7d",
   "metadata": {},
   "outputs": [
    {
     "name": "stdout",
     "output_type": "stream",
     "text": [
      "mpirun -n 2 ModelA-Beuler.exe input=inputFree.in deltat=0.1 finaltime=5.0 saveFreq=0.1 output=./freeCase/freeCaseFE_40 evolverType=2 seed=40\r"
     ]
    },
    {
     "name": "stderr",
     "output_type": "stream",
     "text": [
      "--------------------------------------------------------------------------\n",
      "A system call failed during shared memory initialization that should\n",
      "not have.  It is likely that your MPI job will now either abort or\n",
      "experience performance degradation.\n",
      "\n",
      "  Local host:  ntgmac01.physics.sunysb.edu\n",
      "  System call: unlink(2) /var/folders/fp/pwxfww_d0yx8cxh8f1z79_tc0000gr/T//ompi.ntgmac01.504/pid.9739/1/vader_segment.ntgmac01.504.94980001.0\n",
      "  Error:       No such file or directory (errno 2)\n",
      "--------------------------------------------------------------------------\n"
     ]
    },
    {
     "name": "stdout",
     "output_type": "stream",
     "text": [
      "mpirun -n 2 ModelA-Beuler.exe input=inputFree.in deltat=0.1 finaltime=5.0 saveFreq=0.1 output=./freeCase/freeCaseFE_499 evolverType=2 seed=499\r"
     ]
    }
   ],
   "source": [
    "eType=2\n",
    "dt=0.1\n",
    "nSteps=50\n",
    "nSamples=500\n",
    "m2=0.25\n",
    "N=8\n",
    "\n",
    "!rm freeCase/*\n",
    "runFreeModelA(eType,dt,nSteps,nSamples)"
   ]
  },
  {
   "cell_type": "code",
   "execution_count": 116,
   "id": "ddade7b1",
   "metadata": {},
   "outputs": [
    {
     "name": "stdout",
     "output_type": "stream",
     "text": [
      "./freeCase/freeCaseFE_499.h5\r"
     ]
    }
   ],
   "source": [
    "res = EnsembleResults(\"./freeCase/freeCaseFE\",nSamples-1)\n",
    "res.computeWallXFourierSquare0(0,50,1)"
   ]
  },
  {
   "cell_type": "code",
   "execution_count": null,
   "id": "feb58245",
   "metadata": {},
   "outputs": [],
   "source": []
  },
  {
   "cell_type": "code",
   "execution_count": 121,
   "id": "78725703",
   "metadata": {},
   "outputs": [
    {
     "name": "stderr",
     "output_type": "stream",
     "text": [
      "/Users/adrien/miniconda3/envs/Spyder/lib/python3.9/site-packages/numpy/core/_asarray.py:102: ComplexWarning: Casting complex values to real discards the imaginary part\n",
      "  return array(a, dtype, copy=False, order=order)\n",
      "/Users/adrien/miniconda3/envs/Spyder/lib/python3.9/site-packages/numpy/ma/core.py:3374: ComplexWarning: Casting complex values to real discards the imaginary part\n",
      "  _data[indx] = dval\n"
     ]
    },
    {
     "data": {
      "text/plain": [
       "<ErrorbarContainer object of 3 artists>"
      ]
     },
     "execution_count": 121,
     "metadata": {},
     "output_type": "execute_result"
    },
    {
     "data": {
      "image/png": "[encoded data removed]",
      "text/plain": [
       "<Figure size 432x288 with 1 Axes>"
      ]
     },
     "metadata": {},
     "output_type": "display_data"
    }
   ],
   "source": [
    "kn=[i for i in range(len(res.wallXFourierSquare0Err[-1]))]\n",
    "fx = np.asarray([free2ptFE(k,m2,dt,N,S=nSteps+1) for k in kn])\n",
    "\n",
    "plt.plot(fx/res.wallXFourierSquare0[-1])\n",
    "plt.errorbar(kn,res.wallXFourierSquare0[-1],res.wallXFourierSquare0Err[-1])"
   ]
  },
  {
   "cell_type": "code",
   "execution_count": null,
   "id": "67fd0c76",
   "metadata": {},
   "outputs": [],
   "source": []
  }
 ],
 "metadata": {
  "kernelspec": {
   "display_name": "Python 3 (Spyder)",
   "language": "python3",
   "name": "python3"
  },
  "language_info": {
   "codemirror_mode": {
    "name": "ipython",
    "version": 3
   },
   "file_extension": ".py",
   "mimetype": "text/x-python",
   "name": "python",
   "nbconvert_exporter": "python",
   "pygments_lexer": "ipython3",
   "version": "3.9.5"
  }
 },
 "nbformat": 4,
 "nbformat_minor": 5
}

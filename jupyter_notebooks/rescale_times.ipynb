{
 "cells": [
  {
   "cell_type": "code",
   "execution_count": 3,
   "id": "750a3bb1-b6b4-4c51-9ba6-201a83dad9c3",
   "metadata": {},
   "outputs": [
    {
     "name": "stdout",
     "output_type": "stream",
     "text": [
      "The autoreload extension is already loaded. To reload it, use:\n",
      "  %reload_ext autoreload\n",
      "The gnuplot_kernel extension is already loaded. To reload it, use:\n",
      "  %reload_ext gnuplot_kernel\n"
     ]
    }
   ],
   "source": [
    "%load_ext autoreload\n",
    "%autoreload 2\n",
    "\n",
    "import numpy as np\n",
    "import matplotlib.pyplot as plt\n",
    "import sys\n",
    "sys.path.insert(0, '../python')\n",
    "from measurements import *\n",
    "\n",
    "plotter = Plotter()\n",
    "\n",
    "from fitv2 import *\n",
    "\n",
    "\n",
    "import h5py\n",
    "\n",
    "import glob\n",
    "\n",
    "\n",
    "from scipy.optimize import curve_fit\n",
    "from scipy.integrate import quad\n",
    "\n",
    "from scipy.interpolate import interp1d\n",
    "from scipy.optimize import minimize \n",
    "\n",
    "\n",
    "processedDataDir = \"../data/processedv4/\"\n",
    "\n",
    "gdir = '../gnuplot_data/'\n",
    "\n",
    "%load_ext gnuplot_kernel\n",
    "\n",
    "\n",
    "dt=0.72"
   ]
  },
  {
   "cell_type": "code",
   "execution_count": 16,
   "id": "dc0676ad-9aa6-498a-8574-820ee5644cf3",
   "metadata": {},
   "outputs": [],
   "source": [
    "fns = glob.glob(\"../data/*N080*.h5\")"
   ]
  },
  {
   "cell_type": "code",
   "execution_count": 17,
   "id": "d1a7c3ec-9cd1-4e71-b111-8c93f0bdc2f0",
   "metadata": {},
   "outputs": [
    {
     "name": "stdout",
     "output_type": "stream",
     "text": [
      "../data/z2p023_N080_m-0464527_h003000_c00500.h5\n",
      "../data/zminus2_N080_m-0501265_h003684_c00500.h5\n",
      "../data/z1p079_N080_m-0472261_h003000_c00500.h5\n",
      "../data/z1p214_N080_m-0471156_h003000_c00500.h5\n",
      "../data/z1p753_N080_m-0466737_h003000_c00500.h5\n",
      "../data/z0p944_N080_m-0473366_h003000_c00500.h5\n",
      "../data/zcritical_N080_m-0481100_h006000_c00500.h5\n",
      "../data/zpseudocritical_N080_m-0470052_h003000_c00500.h5\n",
      "../data/zm4p75_N080_m-0520000_h003000_c00500.h5\n",
      "../data/zcritical_N080_m-0481100_h004000_c00500.h5\n",
      "../data/zcritical_N080_m-0481100_h003000_c00500.h5\n",
      "../data/zcritical_N080_m-0481100_h010000_c00500.h5\n",
      "../data/zcritical_N080_m-0481100_h002000_c00500.h5\n",
      "../data/zplus_N080_m-0445648_h003684_c00500.h5\n",
      "../data/zminus2_N080_m-0499128_h003000_c00500.h5\n",
      "../data/z1p2815_N080_m-0470604_h003000_c00500.h5\n",
      "../data/zplus_N080_m-0449406_h003000_c00500.h5\n"
     ]
    }
   ],
   "source": [
    "for fn in fns:\n",
    "    print(fn)\n",
    "    data = ConfResults(fn=fn,thTime=1000,dt=dt, data_format=\"new\", processedDir=processedDataDir, plotDir=gdir)\n",
    "    for key in [\"dsigma\", \"phi\", \"A\", \"V\"]:\n",
    "        data.load(\"OtOttp\",key)\n",
    "        data.OtOttp_time[key] = data.OtOttp_time[key] / 0.80 * dt\n",
    "        data.save(\"OtOttp\",key)\n"
   ]
  },
  {
   "cell_type": "code",
   "execution_count": 22,
   "id": "a2ea3a9f-f330-4d76-b4f4-776a03eb575e",
   "metadata": {},
   "outputs": [],
   "source": [
    "data1 = ConfResults(fn=\"zminus2_N080_m-0499128_h003000_c00500.h5\",thTime=1000,dt=dt, data_format=\"new\", processedDir=processedDataDir, plotDir=gdir)\n",
    "data2 = ConfResults(fn=\"zminus2_N080_m-0499128_h003000_c00500.h5\",thTime=1000,dt=dt, data_format=\"new\", processedDir=\"../data/processedv4Backup/\", plotDir=gdir)\n",
    "data1.load(\"OtOttp\",\"A\")\n",
    "data2.load(\"OtOttp\",\"A\")\n"
   ]
  },
  {
   "cell_type": "code",
   "execution_count": 24,
   "id": "44f5af20-c552-4788-be4f-13a8c9d0e799",
   "metadata": {},
   "outputs": [
    {
     "data": {
      "image/png": "[encoded data removed]",
      "text/plain": [
       "<Figure size 460.8x316.8 with 1 Axes>"
      ]
     },
     "metadata": {
      "needs_background": "light"
     },
     "output_type": "display_data"
    }
   ],
   "source": [
    "plotter.plot(data1,\"OtOttp\",\"A\")\n",
    "plotter.plot(data2,\"OtOttp\",\"A\")"
   ]
  },
  {
   "cell_type": "code",
   "execution_count": null,
   "id": "59ea203d-6790-4ec9-b4a9-beff7d75b271",
   "metadata": {},
   "outputs": [],
   "source": []
  }
 ],
 "metadata": {
  "kernelspec": {
   "display_name": "Python 3 (ipykernel)",
   "language": "python",
   "name": "python3"
  },
  "language_info": {
   "codemirror_mode": {
    "name": "ipython",
    "version": 3
   },
   "file_extension": ".py",
   "mimetype": "text/x-python",
   "name": "python",
   "nbconvert_exporter": "python",
   "pygments_lexer": "ipython3",
   "version": "3.9.9"
  }
 },
 "nbformat": 4,
 "nbformat_minor": 5
}

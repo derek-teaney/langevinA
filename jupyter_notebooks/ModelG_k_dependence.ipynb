{
 "cells": [
  {
   "cell_type": "code",
   "execution_count": 78,
   "id": "fda5c81e-1810-40c1-8e4c-277ad0a514c7",
   "metadata": {},
   "outputs": [
    {
     "name": "stdout",
     "output_type": "stream",
     "text": [
      "The autoreload extension is already loaded. To reload it, use:\n",
      "  %reload_ext autoreload\n"
     ]
    }
   ],
   "source": [
    "%load_ext autoreload\n",
    "%autoreload 2\n",
    "\n",
    "import numpy as np\n",
    "import matplotlib.pyplot as plt\n",
    "import sys\n",
    "sys.path.insert(0, '../python')\n",
    "from measurements import *\n",
    "\n",
    "plotter = Plotter()\n",
    "\n",
    "from fitv2 import *\n",
    "\n",
    "\n",
    "import h5py\n",
    "\n",
    "\n",
    "\n",
    "#processedDataDir = \"../data/processedv4/\"\n",
    "\n",
    "\n",
    "#This is the path to were you saved the processed correlators.\n",
    "processedDataDir = \"../processed/\"\n",
    "\n",
    "\n",
    "gdir = '../gnuplot_data/'\n",
    "\n",
    "#%load_ext gnuplot_kernel\n",
    "\n",
    "\n",
    "dt=0.72\n",
    "chi0 = 5.0"
   ]
  },
  {
   "cell_type": "markdown",
   "id": "c2acaff5-aa00-4e32-ba64-fabef217a31f",
   "metadata": {},
   "source": [
    "Below you need to put the name of the data file you   want to analyze. In your case, you don't need to have the original .h5 locally, but still need to specify the name here (the class reconstruct the correct name of the other files from there). \n",
    "\n",
    "So say you have locally zminus2_N080_m-0499128_h003000_c00500_OtOttp_Akk7.txt. Below you need to put\n",
    "zminus2_N080_m-0499128_h003000_c00500.h5 .\n",
    "\n",
    "The factor multiplying dt is the correction coming from the ideal step accept-reject, you need to change it accordingly, the numbers are in the paper. A clean way to do it would to store them in a dictionnary or array I guess."
   ]
  },
  {
   "cell_type": "code",
   "execution_count": 79,
   "id": "b57660ef-24a6-4888-a385-e68fd59d0f7e",
   "metadata": {},
   "outputs": [],
   "source": [
    "data = ConfResults(fn=\"../data/zcritical_N080_m-0481100_h006000_c00500.h5\",thTime=1000,dt=dt*0.9398, data_format=\"new\", processedDir=processedDataDir, plotDir=gdir)"
   ]
  },
  {
   "cell_type": "markdown",
   "id": "e8eeacc7-e54e-40de-9f7b-9d8ed8aa5d9e",
   "metadata": {},
   "source": [
    "This is how you load the data. \"OtOttp\" means real time correlator, \"A\" mean axial, k=0. Finite k=4 is labelled by \"Akk4\" and so on. Below I loop over k=1 to 10 and load all of the 10 ks.\n",
    "\n",
    "This syntax is handy: \"Akk{}\".format(k)\n",
    "\n",
    "\"This is a string {} and blabla {} blabla {}\".format(a,b,c)\n",
    "\n",
    "replace {} {} {} by a,b,c and a,b,c  can be whatever object than can be converted to a string."
   ]
  },
  {
   "cell_type": "code",
   "execution_count": 80,
   "id": "88ecb06b-e8ff-4b24-9d83-eb8d73530cf3",
   "metadata": {},
   "outputs": [],
   "source": [
    "data.load(\"OtOttp\",\"A\", direc=processedDataDir)\n",
    "for k in range(1,10):\n",
    "    data.load(\"OtOttp\",\"Akk{}\".format(k), direc=processedDataDir)\n",
    "    # You need this line only if you want to ompute the fourier transform, see below.\n",
    "    #data.load(\"OtOttp_blocks\",\"Akk{}\".format(k), direc=processedDataDir)\n",
    "    "
   ]
  },
  {
   "cell_type": "markdown",
   "id": "d6423a5c-7d96-408b-834f-348813282951",
   "metadata": {},
   "source": [
    "There is this plotter object that is handy to do the plots, you tell which obs and which channel and t does the plot."
   ]
  },
  {
   "cell_type": "code",
   "execution_count": 81,
   "id": "fe37f8f7-a39d-4fba-9f38-7280a6189773",
   "metadata": {},
   "outputs": [
    {
     "data": {
      "text/plain": [
       "[<matplotlib.lines.Line2D at 0x12fc04c40>]"
      ]
     },
     "execution_count": 81,
     "metadata": {},
     "output_type": "execute_result"
    },
    {
     "data": {
      "image/png": "[encoded data removed]",
      "text/plain": [
       "<Figure size 460.8x316.8 with 1 Axes>"
      ]
     },
     "metadata": {
      "needs_background": "light"
     },
     "output_type": "display_data"
    }
   ],
   "source": [
    "for k in range(1,6):\n",
    "    plotter.plot(data,\"OtOttp\",\"Akk{}\".format(k),tMax = 600, yfact = 1.0 / 5.0)\n",
    "#plotter.plot(dataminus,\"OtOttp\",\"dsigma\",tMax = 2200, yfact = 1.0 / np.real(dataminus.OtOttp['dsigma'].mean[0]))\n",
    "plt.plot([0,200],[0,0],'--k')"
   ]
  },
  {
   "cell_type": "markdown",
   "id": "fc1deefe-d774-40e2-840e-5e6245c39e76",
   "metadata": {},
   "source": [
    "Below is only an example to compute the Fourier transform, but let's not worry about it."
   ]
  },
  {
   "cell_type": "code",
   "execution_count": 82,
   "id": "e65c277b-3d0f-47dd-835b-8e4e895b0159",
   "metadata": {},
   "outputs": [],
   "source": [
    "#for k in range(1,10):\n",
    "#    data.computeStatisticalCor(\"Akk{}\".format(k),0.1,errFunc=lambda x: (np.mean(x, axis = 0), np.std(np.real(x), axis = 0) + 1j*np.std(np.imag(x), axis = 0)), filterFunc=lambda x : np.exp(-x / 1000.0))"
   ]
  },
  {
   "cell_type": "code",
   "execution_count": 83,
   "id": "4c93a712-22c3-49f2-9409-fe4b69a30355",
   "metadata": {},
   "outputs": [],
   "source": [
    "#plotter.plot(data,\"OtOttpFourier\",\"Akk3\")"
   ]
  },
  {
   "cell_type": "markdown",
   "id": "ff353788-fda8-49dc-90a5-ee74e241c68d",
   "metadata": {},
   "source": [
    "This is how I envision the fit to work. For every k, create a new Fitter. It takes  as an argument k, even if it is not used so far. "
   ]
  },
  {
   "cell_type": "code",
   "execution_count": 84,
   "id": "63af351e-8f13-47d6-bac6-e287e732a2a8",
   "metadata": {},
   "outputs": [],
   "source": [
    "fitter= dict()\n",
    "\n",
    "fitter[\"Akk3\"] = Fitter(data, chi0 = chi0, chiperp = 1, L=80, k = 3)"
   ]
  },
  {
   "cell_type": "markdown",
   "id": "c185a6a4-647e-4084-bffe-f4bb9533e552",
   "metadata": {},
   "source": [
    "As explained in the class, you specify again here the obs and channel/fit type. Then you specify an appropriate number of initial conditions for the fit."
   ]
  },
  {
   "cell_type": "code",
   "execution_count": 85,
   "id": "eddfd314-1d6f-48a7-99c4-84fe18b873b9",
   "metadata": {},
   "outputs": [],
   "source": [
    "fitter[\"Akk3\"].setParValues(\"OtOttp\", \"Akk3\", [0.005,0.013,-0.1])"
   ]
  },
  {
   "cell_type": "markdown",
   "id": "85136ea0-8fd1-4fb2-addc-85661ad8c228",
   "metadata": {},
   "source": [
    "Do the fit by calling fit. min/maxInd and prune allow you to restrict the data range and prune them in case you need it."
   ]
  },
  {
   "cell_type": "code",
   "execution_count": 86,
   "id": "54defeb4-cfe0-4fdb-98b7-1dc432f2eae3",
   "metadata": {},
   "outputs": [
    {
     "name": "stdout",
     "output_type": "stream",
     "text": [
      "[5.01526673+0.j         4.96371723-0.00036067j 4.90885347+0.00153485j ...\n",
      " 0.00787547-0.00866078j 0.0086475 -0.00854573j 0.00879806-0.0087287j ]\n"
     ]
    },
    {
     "data": {
      "text/plain": [
       "(153.2001015481577,\n",
       " 0.1106137917315218,\n",
       " 1385,\n",
       " <ValueView a=0.061187803116820184 b=0.02848166018162377 c=-0.5707080927958431>)"
      ]
     },
     "execution_count": 86,
     "metadata": {},
     "output_type": "execute_result"
    }
   ],
   "source": [
    "fitter[\"Akk3\"].fit(\"OtOttp\", \"Akk3\", minInd=0,maxInd=1600, prune=1)"
   ]
  },
  {
   "cell_type": "code",
   "execution_count": 87,
   "id": "9a86968c-c2b7-4dc9-a584-3fa8e3dd5504",
   "metadata": {},
   "outputs": [
    {
     "data": {
      "text/plain": [
       "{'OtOttp': {'Akk3': 0.1106137917315218},\n",
       " 'OtOttpFourier': {},\n",
       " 'propagatorF': {},\n",
       " 'propagator': {}}"
      ]
     },
     "execution_count": 87,
     "metadata": {},
     "output_type": "execute_result"
    }
   ],
   "source": [
    "fitter[\"Akk3\"].averagechi2reduce"
   ]
  },
  {
   "cell_type": "code",
   "execution_count": 88,
   "id": "c23cf91b-59d4-45c7-90b1-2ae3559f923f",
   "metadata": {},
   "outputs": [
    {
     "data": {
      "text/plain": [
       "{'OtOttp': {'Akk3': [0.061187803116820184,\n",
       "   0.02848166018162377,\n",
       "   -0.5707080927958431]},\n",
       " 'OtOttpFourier': {'A': array([0., 0.]),\n",
       "  'phi': array([0., 0.]),\n",
       "  'dphi': array([0., 0.]),\n",
       "  'Aphi': array([0., 0.])},\n",
       " 'propagatorF': {'phi': array([0., 0.]), 'dsigma': array([0., 0.])},\n",
       " 'propagator': {'phi': array([0., 0.])}}"
      ]
     },
     "execution_count": 88,
     "metadata": {},
     "output_type": "execute_result"
    }
   ],
   "source": [
    "fitter[\"Akk3\"].par"
   ]
  },
  {
   "cell_type": "code",
   "execution_count": 89,
   "id": "101069cc-84b4-4e4e-b5a5-5587de64d00f",
   "metadata": {},
   "outputs": [
    {
     "data": {
      "text/plain": [
       "{'OtOttp': {'Akk3': array([0.00029288, 0.00011078, 0.00788523])},\n",
       " 'OtOttpFourier': {},\n",
       " 'propagatorF': {},\n",
       " 'propagator': {}}"
      ]
     },
     "execution_count": 89,
     "metadata": {},
     "output_type": "execute_result"
    }
   ],
   "source": [
    "fitter[\"Akk3\"].parErr"
   ]
  },
  {
   "cell_type": "code",
   "execution_count": 90,
   "id": "86530f7d-1f0a-4b76-8b7b-7f048c1fb94b",
   "metadata": {},
   "outputs": [
    {
     "name": "stdout",
     "output_type": "stream",
     "text": [
      "[0.061187803116820184, 0.02848166018162377, -0.5707080927958431]\n"
     ]
    },
    {
     "data": {
      "image/png": "[encoded data removed]",
      "text/plain": [
       "<Figure size 460.8x316.8 with 1 Axes>"
      ]
     },
     "metadata": {
      "needs_background": "light"
     },
     "output_type": "display_data"
    }
   ],
   "source": [
    "plotter.plot(data,\"OtOttp\",\"Akk3\",tMax = 20000, yfact = 1.0 )\n",
    "fitter[\"Akk3\"].plot(\"OtOttp\", \"Akk3\")"
   ]
  }
 ],
 "metadata": {
  "kernelspec": {
   "display_name": "Python 3 (ipykernel)",
   "language": "python",
   "name": "python3"
  },
  "language_info": {
   "codemirror_mode": {
    "name": "ipython",
    "version": 3
   },
   "file_extension": ".py",
   "mimetype": "text/x-python",
   "name": "python",
   "nbconvert_exporter": "python",
   "pygments_lexer": "ipython3",
   "version": "3.9.9"
  }
 },
 "nbformat": 4,
 "nbformat_minor": 5
}

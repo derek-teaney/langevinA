{
 "cells": [
  {
   "cell_type": "code",
   "execution_count": 1,
   "metadata": {},
   "outputs": [],
   "source": [
    "%load_ext autoreload\n",
    "%autoreload 2\n",
    "\n",
    "import matplotlib.pyplot as plt\n",
    "import matplotlib as mpl\n",
    "import sys\n",
    "sys.path.insert(0, '../../python')\n",
    "from fitv3 import *\n",
    "from scipy import interpolate\n",
    "\n",
    "plotter = Plotter()\n",
    "\n",
    "\n",
    "\n",
    "import Loader as ms\n",
    "\n",
    "\n",
    "#processedDataDir = \"../data/processedv4/\"\n",
    "\n",
    "\n",
    "#This is the path to were you saved the processed correlators.\n",
    "processedDataDir = \"/home/superpions/processed_data/unbroken_H0/\"\n",
    "#processedDataDir = \"../../python/\"\n",
    "\n",
    "\n",
    "\n",
    "gdir = '../gnuplot_data/'\n",
    "\n",
    "\n",
    "mpl.rc('text', usetex = True)\n",
    "mpl.rc('font', family = 'serif')\n",
    "mpl.rc('font', size = '14')\n",
    "\n",
    "mpl.rc('xtick', labelsize=14) \n",
    "mpl.rc('ytick', labelsize=14) \n",
    "\n",
    "def ylabel(ax, label, fts = 14):\n",
    "    ax.set_ylabel(label, fontsize=fts)\n",
    "def xlabel(ax, label, fts = 14):\n",
    "    ax.set_xlabel(label, fontsize=fts)       \n",
    "\n",
    "#%load_ext gnuplot_kernel\n",
    "\n",
    "\n",
    "dt=0.72\n",
    "chi0 = 5.0\n",
    "\n",
    "\n",
    "def getNameStr(m, v):\n",
    "    res = \"{}\".format(m).split('.')\n",
    "    mStr = \"m-0\" + res[0][1:] + res[1]\n",
    "    while len(mStr)<9:\n",
    "        mStr+='0'\n",
    "    vStr = \"{}\".format(v)\n",
    "    vStr = \"N0\" + vStr if v < 100 else \"N\" + vStr\n",
    "    return \"zeroHlongDiffuse_\" + vStr + \"_\" + mStr + \"_h000000_c00500\""
   ]
  },
  {
   "cell_type": "code",
   "execution_count": 2,
   "metadata": {},
   "outputs": [],
   "source": [
    "loader=dict()\n",
    "dms=dict()\n",
    "dataFn=dict()\n",
    "#masses = [-4.76000, -4.74500 ,-4.73366,-4.72800, -4.72000,-4.71000,-4.70052, -4.66000] \n",
    "masses = [-4.78000,-4.76000,-4.73366,-4.72800, -4.72000,-4.71000,-4.70052, -4.68000] \n",
    "mc = -4.81100\n",
    "reducedMasses = (mc - np.asarray(masses)) / mc\n",
    "for m in masses:\n",
    "    loader[m] = dict()\n",
    "    dms[m] = dict()\n",
    "    dataFn[m] = dict()\n",
    "volumes = [96]"
   ]
  },
  {
   "cell_type": "code",
   "execution_count": 3,
   "metadata": {},
   "outputs": [],
   "source": [
    "fitter = dict()\n",
    "\n",
    "for m in masses:\n",
    "    fitter[m] = dict()\n",
    "    for v in volumes:\n",
    "        dataFn[m][v] = getNameStr(m, v)\n",
    "        fn = \"../../run_H0/\" + dataFn[m][v] + \"/\" + dataFn[m][v] + \".h5\"\n",
    "        loader[m][v] = ms.Loader(\n",
    "            fn,\n",
    "            removemean=True,\n",
    "            starttime=8000,\n",
    "            nblocks=15)\n",
    "        dms[m][v] = ms.DataManager(fn, processedDataDir)\n",
    "        fitter[m][v] = Fitter(dms[m][v], 1.0, 1.0, L = float(v))\n",
    "        #res = dms[m][v].load(\"oxoxp_phi0123_xyz\", False)\n",
    "        #dms[m][v].save(res, \"oxoxp_phi0123_xyz\", np.arange(len(res.mean)))\n"
   ]
  },
  {
   "cell_type": "code",
   "execution_count": 4,
   "metadata": {},
   "outputs": [],
   "source": [
    "def getSlidingMass(fit,L):\n",
    "    res = []\n",
    "    resErr = []\n",
    "    for i in range(0,int(L/2-8)):\n",
    "        fit.fit(\"oxoxp\", \"phi0123\",  minInd=i,maxInd=L-i)\n",
    "        res.append(fit.par[\"oxoxp\"][\"phi0123\"][1])\n",
    "        resErr.append(fit.parErr[\"oxoxp\"][\"phi0123\"][1])\n",
    "    return StatResult((res, resErr))\n",
    "\n",
    "\n",
    "def constantFit(const, plateau, endPlateau, guess=0.2):\n",
    "\n",
    "    modelC = lambda par : par[0]\n",
    "\n",
    "\n",
    "    res = const.mean[plateau:endPlateau]\n",
    "    resErr = const.err[plateau:endPlateau]\n",
    "    chi2C2 = lambda par : np.sum(np.square((res - modelC(par)) / resErr ))\n",
    "    fitC2 = Minuit(chi2C2, [guess], name=[\"b\"])\n",
    "\n",
    "    fitC2.errordef = Minuit.LEAST_SQUARES\n",
    "\n",
    "    #fit.limits = []\n",
    "\n",
    "    fitC2.migrad()\n",
    "    fitC2.minos();\n",
    "\n",
    "\n",
    "    return fitC2.values['b'],fitC2.errors['b']\n",
    "\n",
    "def plotConst(fit, fitErr, plateau, endPlateau):\n",
    "    xs = [plateau, endPlateau]\n",
    "    ys = np.asarray([fit, fit])\n",
    "    errs = np.asarray([fitErr, fitErr])\n",
    "\n",
    "\n",
    "\n",
    "    plt.fill_between(xs, ys - errs,ys + errs, linewidth=0, zorder=1, color='r')\n"
   ]
  },
  {
   "cell_type": "code",
   "execution_count": null,
   "metadata": {},
   "outputs": [],
   "source": []
  },
  {
   "cell_type": "code",
   "execution_count": 5,
   "metadata": {},
   "outputs": [
    {
     "name": "stderr",
     "output_type": "stream",
     "text": [
      "/usr/local/lib/python3.8/dist-packages/matplotlib/cbook/__init__.py:1298: ComplexWarning: Casting complex values to real discards the imaginary part\n",
      "  return np.asarray(x, float)\n",
      "/usr/local/lib/python3.8/dist-packages/numpy/ma/core.py:3377: ComplexWarning: Casting complex values to real discards the imaginary part\n",
      "  _data[indx] = dval\n",
      "/usr/local/lib/python3.8/dist-packages/matplotlib/cbook/__init__.py:1298: ComplexWarning: Casting complex values to real discards the imaginary part\n",
      "  return np.asarray(x, float)\n",
      "/usr/local/lib/python3.8/dist-packages/numpy/ma/core.py:3377: ComplexWarning: Casting complex values to real discards the imaginary part\n",
      "  _data[indx] = dval\n",
      "/usr/local/lib/python3.8/dist-packages/matplotlib/cbook/__init__.py:1298: ComplexWarning: Casting complex values to real discards the imaginary part\n",
      "  return np.asarray(x, float)\n",
      "/usr/local/lib/python3.8/dist-packages/numpy/ma/core.py:3377: ComplexWarning: Casting complex values to real discards the imaginary part\n",
      "  _data[indx] = dval\n",
      "/usr/local/lib/python3.8/dist-packages/matplotlib/cbook/__init__.py:1298: ComplexWarning: Casting complex values to real discards the imaginary part\n",
      "  return np.asarray(x, float)\n",
      "/usr/local/lib/python3.8/dist-packages/numpy/ma/core.py:3377: ComplexWarning: Casting complex values to real discards the imaginary part\n",
      "  _data[indx] = dval\n",
      "/usr/local/lib/python3.8/dist-packages/matplotlib/cbook/__init__.py:1298: ComplexWarning: Casting complex values to real discards the imaginary part\n",
      "  return np.asarray(x, float)\n",
      "/usr/local/lib/python3.8/dist-packages/numpy/ma/core.py:3377: ComplexWarning: Casting complex values to real discards the imaginary part\n",
      "  _data[indx] = dval\n",
      "/usr/local/lib/python3.8/dist-packages/matplotlib/cbook/__init__.py:1298: ComplexWarning: Casting complex values to real discards the imaginary part\n",
      "  return np.asarray(x, float)\n",
      "/usr/local/lib/python3.8/dist-packages/numpy/ma/core.py:3377: ComplexWarning: Casting complex values to real discards the imaginary part\n",
      "  _data[indx] = dval\n",
      "/usr/local/lib/python3.8/dist-packages/matplotlib/cbook/__init__.py:1298: ComplexWarning: Casting complex values to real discards the imaginary part\n",
      "  return np.asarray(x, float)\n",
      "/usr/local/lib/python3.8/dist-packages/numpy/ma/core.py:3377: ComplexWarning: Casting complex values to real discards the imaginary part\n",
      "  _data[indx] = dval\n",
      "/usr/local/lib/python3.8/dist-packages/matplotlib/cbook/__init__.py:1298: ComplexWarning: Casting complex values to real discards the imaginary part\n",
      "  return np.asarray(x, float)\n",
      "/usr/local/lib/python3.8/dist-packages/numpy/ma/core.py:3377: ComplexWarning: Casting complex values to real discards the imaginary part\n",
      "  _data[indx] = dval\n"
     ]
    },
    {
     "data": {
      "image/png": "[encoded data removed]",
      "text/plain": [
       "<Figure size 460.8x316.8 with 1 Axes>"
      ]
     },
     "metadata": {
      "needs_background": "light"
     },
     "output_type": "display_data"
    },
    {
     "data": {
      "image/png": "[encoded data removed]",
      "text/plain": [
       "<Figure size 460.8x316.8 with 1 Axes>"
      ]
     },
     "metadata": {
      "needs_background": "light"
     },
     "output_type": "display_data"
    },
    {
     "data": {
      "image/png": "[encoded data removed]",
      "text/plain": [
       "<Figure size 460.8x316.8 with 1 Axes>"
      ]
     },
     "metadata": {
      "needs_background": "light"
     },
     "output_type": "display_data"
    },
    {
     "data": {
      "image/png": "[encoded data removed]",
      "text/plain": [
       "<Figure size 460.8x316.8 with 1 Axes>"
      ]
     },
     "metadata": {
      "needs_background": "light"
     },
     "output_type": "display_data"
    },
    {
     "data": {
      "image/png": "[encoded data removed]",
      "text/plain": [
       "<Figure size 460.8x316.8 with 1 Axes>"
      ]
     },
     "metadata": {
      "needs_background": "light"
     },
     "output_type": "display_data"
    },
    {
     "data": {
      "image/png": "[encoded data removed]",
      "text/plain": [
       "<Figure size 460.8x316.8 with 1 Axes>"
      ]
     },
     "metadata": {
      "needs_background": "light"
     },
     "output_type": "display_data"
    },
    {
     "data": {
      "image/png": "[encoded data removed]",
      "text/plain": [
       "<Figure size 460.8x316.8 with 1 Axes>"
      ]
     },
     "metadata": {
      "needs_background": "light"
     },
     "output_type": "display_data"
    },
    {
     "data": {
      "image/png": "[encoded data removed]",
      "text/plain": [
       "<Figure size 460.8x316.8 with 1 Axes>"
      ]
     },
     "metadata": {
      "needs_background": "light"
     },
     "output_type": "display_data"
    }
   ],
   "source": [
    "for m in masses:\n",
    "    last=10\n",
    "    x,res = dms[m][v].load(\"oxoxpeffmasses_phi0123_xyz\")\n",
    "    plt.figure()\n",
    "    plt.errorbar(x[:last], res.mean[:last], res.err[:last])\n",
    "    #plt.yscale('log')\n",
    "    #fitter[m][v].plot(\"oxoxp\", \"phi0123\")"
   ]
  },
  {
   "cell_type": "markdown",
   "metadata": {},
   "source": [
    "As in this case the effective masses converges quickly, I extract the inverse correlation length the second effecive mass."
   ]
  },
  {
   "cell_type": "code",
   "execution_count": 6,
   "metadata": {},
   "outputs": [
    {
     "name": "stderr",
     "output_type": "stream",
     "text": [
      "/home/adrienflorio/.local/lib/python3.8/site-packages/iminuit/minuit.py:683: ComplexWarning: Casting complex values to real discards the imaginary part\n",
      "  fm = migrad(ncall, self._tolerance)\n",
      "/home/adrienflorio/.local/lib/python3.8/site-packages/iminuit/minuit.py:1370: ComplexWarning: Casting complex values to real discards the imaginary part\n",
      "  me = minos(self._var2pos[par], ncall, self._tolerance)\n"
     ]
    }
   ],
   "source": [
    "invCor = []\n",
    "invCorErr = []\n",
    "for m in masses:\n",
    "    last=10\n",
    "    x,res = dms[m][v].load(\"oxoxpeffmasses_phi0123_xyz\")\n",
    "    mean, err = constantFit(res, 1, 5)\n",
    "    invCor.append(mean)\n",
    "    invCorErr.append(err)"
   ]
  },
  {
   "cell_type": "code",
   "execution_count": 7,
   "metadata": {},
   "outputs": [
    {
     "data": {
      "text/plain": [
       "<ErrorbarContainer object of 3 artists>"
      ]
     },
     "execution_count": 7,
     "metadata": {},
     "output_type": "execute_result"
    },
    {
     "data": {
      "image/png": "[encoded data removed]",
      "text/plain": [
       "<Figure size 460.8x316.8 with 1 Axes>"
      ]
     },
     "metadata": {
      "needs_background": "light"
     },
     "output_type": "display_data"
    }
   ],
   "source": [
    "plt.errorbar(reducedMasses, invCor, invCorErr, ls=\"none\")"
   ]
  },
  {
   "cell_type": "code",
   "execution_count": 8,
   "metadata": {},
   "outputs": [],
   "source": [
    "omega = 0.8\n",
    "nu = 0.7377"
   ]
  },
  {
   "cell_type": "code",
   "execution_count": 9,
   "metadata": {},
   "outputs": [],
   "source": [
    "    scaling = lambda x, par : par[0] * x**(nu) *(1.0 + par[1] * x**(omega * nu) )\n",
    "\n",
    "\n",
    "    chi2 = lambda par : np.sum(np.square((invCor - scaling(reducedMasses, par)) / invCorErr ))\n",
    "    fit = Minuit(chi2, [0.000001, 10.0], name=[\"xim1\", \"xim1+\"])\n",
    "\n",
    "    fit.errordef = Minuit.LEAST_SQUARES\n",
    "\n",
    "    #fit.limits = []\n",
    "\n",
    "    fit.migrad()\n",
    "    fit.minos();"
   ]
  },
  {
   "cell_type": "code",
   "execution_count": 10,
   "metadata": {},
   "outputs": [
    {
     "data": {
      "text/plain": [
       "[<matplotlib.lines.Line2D at 0x7f6878a81be0>]"
      ]
     },
     "execution_count": 10,
     "metadata": {},
     "output_type": "execute_result"
    },
    {
     "data": {
      "image/png": "[encoded data removed]",
      "text/plain": [
       "<Figure size 460.8x316.8 with 1 Axes>"
      ]
     },
     "metadata": {
      "needs_background": "light"
     },
     "output_type": "display_data"
    }
   ],
   "source": [
    "plt.errorbar(reducedMasses, invCor, invCorErr, ls='none')\n",
    "\n",
    "plt.plot(reducedMasses, scaling(reducedMasses, np.asarray(fit.values)))\n",
    "#plt.plot(reducedMasses, scaling(reducedMasses, [1.01*np.asarray(fit.values)[0], np.asarray(fit.values)[1]]))\n",
    "\n",
    "\n",
    "#plt.xscale(\"log\")\n",
    "#plt.yscale(\"log\")"
   ]
  },
  {
   "cell_type": "code",
   "execution_count": 11,
   "metadata": {},
   "outputs": [
    {
     "data": {
      "text/html": [
       "<table>\n",
       "    <tr>\n",
       "        <th colspan=\"5\" style=\"text-align:center\" title=\"Minimizer\"> Migrad </th>\n",
       "    </tr>\n",
       "    <tr>\n",
       "        <td colspan=\"2\" style=\"text-align:left\" title=\"Minimum value of function\"> FCN = 0.1547 </td>\n",
       "        <td colspan=\"3\" style=\"text-align:center\" title=\"No. of function evaluations in last call and total number\"> Nfcn = 177 </td>\n",
       "    </tr>\n",
       "    <tr>\n",
       "        <td colspan=\"2\" style=\"text-align:left\" title=\"Estimated distance to minimum and goal\"> EDM = 2.96e-05 (Goal: 0.0002) </td>\n",
       "        <td colspan=\"3\" style=\"text-align:center\" title=\"No. of gradient evaluations in last call and total number\">  </td>\n",
       "    </tr>\n",
       "    <tr>\n",
       "        <td colspan=\"2\" style=\"text-align:center;background-color:#92CCA6;color:black\"> Valid Minimum </td>\n",
       "        <td colspan=\"3\" style=\"text-align:center;background-color:#92CCA6;color:black\"> No Parameters at limit </td>\n",
       "    </tr>\n",
       "    <tr>\n",
       "        <td colspan=\"2\" style=\"text-align:center;background-color:#92CCA6;color:black\"> Below EDM threshold (goal x 10) </td>\n",
       "        <td colspan=\"3\" style=\"text-align:center;background-color:#92CCA6;color:black\"> Below call limit </td>\n",
       "    </tr>\n",
       "    <tr>\n",
       "        <td style=\"text-align:center;background-color:#92CCA6;color:black\"> Covariance </td>\n",
       "        <td style=\"text-align:center;background-color:#92CCA6;color:black\"> Hesse ok </td>\n",
       "        <td style=\"text-align:center;background-color:#92CCA6;color:black\" title=\"Is covariance matrix accurate?\"> Accurate </td>\n",
       "        <td style=\"text-align:center;background-color:#92CCA6;color:black\" title=\"Is covariance matrix positive definite?\"> Pos. def. </td>\n",
       "        <td style=\"text-align:center;background-color:#92CCA6;color:black\" title=\"Was positive definiteness enforced by Minuit?\"> Not forced </td>\n",
       "    </tr>\n",
       "</table><table>\n",
       "    <tr>\n",
       "        <td></td>\n",
       "        <th title=\"Variable name\"> Name </th>\n",
       "        <th title=\"Value of parameter\"> Value </th>\n",
       "        <th title=\"Hesse error\"> Hesse Error </th>\n",
       "        <th title=\"Minos lower error\"> Minos Error- </th>\n",
       "        <th title=\"Minos upper error\"> Minos Error+ </th>\n",
       "        <th title=\"Lower limit of the parameter\"> Limit- </th>\n",
       "        <th title=\"Upper limit of the parameter\"> Limit+ </th>\n",
       "        <th title=\"Is the parameter fixed in the fit\"> Fixed </th>\n",
       "    </tr>\n",
       "    <tr>\n",
       "        <th> 0 </th>\n",
       "        <td> xim1 </td>\n",
       "        <td> -2.27 </td>\n",
       "        <td> 0.05 </td>\n",
       "        <td> -0.05 </td>\n",
       "        <td> 0.05 </td>\n",
       "        <td>  </td>\n",
       "        <td>  </td>\n",
       "        <td>  </td>\n",
       "    </tr>\n",
       "    <tr>\n",
       "        <th> 1 </th>\n",
       "        <td> xim1+ </td>\n",
       "        <td> -1.18 </td>\n",
       "        <td> 0.17 </td>\n",
       "        <td> -0.17 </td>\n",
       "        <td> 0.17 </td>\n",
       "        <td>  </td>\n",
       "        <td>  </td>\n",
       "        <td>  </td>\n",
       "    </tr>\n",
       "</table><table>\n",
       "    <tr>\n",
       "        <td></td>\n",
       "        <th colspan=\"2\" style=\"text-align:center\" title=\"Parameter name\"> xim1 </th>\n",
       "        <th colspan=\"2\" style=\"text-align:center\" title=\"Parameter name\"> xim1+ </th>\n",
       "    </tr>\n",
       "    <tr>\n",
       "        <th title=\"Lower and upper minos error of the parameter\"> Error </th>\n",
       "        <td> -0.05 </td>\n",
       "        <td> 0.05 </td>\n",
       "        <td> -0.17 </td>\n",
       "        <td> 0.17 </td>\n",
       "    </tr>\n",
       "    <tr>\n",
       "        <th title=\"Validity of lower/upper minos error\"> Valid </th>\n",
       "        <td style=\"background-color:#92CCA6;color:black\"> True </td>\n",
       "        <td style=\"background-color:#92CCA6;color:black\"> True </td>\n",
       "        <td style=\"background-color:#92CCA6;color:black\"> True </td>\n",
       "        <td style=\"background-color:#92CCA6;color:black\"> True </td>\n",
       "    </tr>\n",
       "    <tr>\n",
       "        <th title=\"Did scan hit limit of any parameter?\"> At Limit </th>\n",
       "        <td style=\"background-color:#92CCA6;color:black\"> False </td>\n",
       "        <td style=\"background-color:#92CCA6;color:black\"> False </td>\n",
       "        <td style=\"background-color:#92CCA6;color:black\"> False </td>\n",
       "        <td style=\"background-color:#92CCA6;color:black\"> False </td>\n",
       "    </tr>\n",
       "    <tr>\n",
       "        <th title=\"Did scan hit function call limit?\"> Max FCN </th>\n",
       "        <td style=\"background-color:#92CCA6;color:black\"> False </td>\n",
       "        <td style=\"background-color:#92CCA6;color:black\"> False </td>\n",
       "        <td style=\"background-color:#92CCA6;color:black\"> False </td>\n",
       "        <td style=\"background-color:#92CCA6;color:black\"> False </td>\n",
       "    </tr>\n",
       "    <tr>\n",
       "        <th title=\"New minimum found when doing scan?\"> New Min </th>\n",
       "        <td style=\"background-color:#92CCA6;color:black\"> False </td>\n",
       "        <td style=\"background-color:#92CCA6;color:black\"> False </td>\n",
       "        <td style=\"background-color:#92CCA6;color:black\"> False </td>\n",
       "        <td style=\"background-color:#92CCA6;color:black\"> False </td>\n",
       "    </tr>\n",
       "</table><table>\n",
       "    <tr>\n",
       "        <td></td>\n",
       "        <th> xim1 </th>\n",
       "        <th> xim1+ </th>\n",
       "    </tr>\n",
       "    <tr>\n",
       "        <th> xim1 </th>\n",
       "        <td> 0.00211 </td>\n",
       "        <td style=\"background-color:rgb(250,102,102);color:black\"> 0.0078 <strong>(0.988)</strong> </td>\n",
       "    </tr>\n",
       "    <tr>\n",
       "        <th> xim1+ </th>\n",
       "        <td style=\"background-color:rgb(250,102,102);color:black\"> 0.0078 <strong>(0.988)</strong> </td>\n",
       "        <td> 0.0296 </td>\n",
       "    </tr>\n",
       "</table>"
      ],
      "text/plain": [
       "┌─────────────────────────────────────────────────────────────────────────┐\n",
       "│                                Migrad                                   │\n",
       "├──────────────────────────────────┬──────────────────────────────────────┤\n",
       "│ FCN = 0.1547                     │              Nfcn = 177              │\n",
       "│ EDM = 2.96e-05 (Goal: 0.0002)    │                                      │\n",
       "├──────────────────────────────────┼──────────────────────────────────────┤\n",
       "│          Valid Minimum           │        No Parameters at limit        │\n",
       "├──────────────────────────────────┼──────────────────────────────────────┤\n",
       "│ Below EDM threshold (goal x 10)  │           Below call limit           │\n",
       "├───────────────┬──────────────────┼───────────┬─────────────┬────────────┤\n",
       "│  Covariance   │     Hesse ok     │ Accurate  │  Pos. def.  │ Not forced │\n",
       "└───────────────┴──────────────────┴───────────┴─────────────┴────────────┘\n",
       "┌───┬───────┬───────────┬───────────┬────────────┬────────────┬─────────┬─────────┬───────┐\n",
       "│   │ Name  │   Value   │ Hesse Err │ Minos Err- │ Minos Err+ │ Limit-  │ Limit+  │ Fixed │\n",
       "├───┼───────┼───────────┼───────────┼────────────┼────────────┼─────────┼─────────┼───────┤\n",
       "│ 0 │ xim1  │   -2.27   │   0.05    │   -0.05    │    0.05    │         │         │       │\n",
       "│ 1 │ xim1+ │   -1.18   │   0.17    │   -0.17    │    0.17    │         │         │       │\n",
       "└───┴───────┴───────────┴───────────┴────────────┴────────────┴─────────┴─────────┴───────┘\n",
       "┌──────────┬───────────────────────┬───────────────────────┐\n",
       "│          │         xim1          │         xim1+         │\n",
       "├──────────┼───────────┬───────────┼───────────┬───────────┤\n",
       "│  Error   │   -0.05   │   0.05    │   -0.17   │   0.17    │\n",
       "│  Valid   │   True    │   True    │   True    │   True    │\n",
       "│ At Limit │   False   │   False   │   False   │   False   │\n",
       "│ Max FCN  │   False   │   False   │   False   │   False   │\n",
       "│ New Min  │   False   │   False   │   False   │   False   │\n",
       "└──────────┴───────────┴───────────┴───────────┴───────────┘\n",
       "┌───────┬─────────────────┐\n",
       "│       │    xim1   xim1+ │\n",
       "├───────┼─────────────────┤\n",
       "│  xim1 │ 0.00211  0.0078 │\n",
       "│ xim1+ │  0.0078  0.0296 │\n",
       "└───────┴─────────────────┘"
      ]
     },
     "execution_count": 11,
     "metadata": {},
     "output_type": "execute_result"
    }
   ],
   "source": [
    "fit"
   ]
  },
  {
   "cell_type": "markdown",
   "metadata": {},
   "source": [
    "Universal ratio:"
   ]
  },
  {
   "cell_type": "code",
   "execution_count": 12,
   "metadata": {},
   "outputs": [],
   "source": [
    "C1 = 0.209\n",
    "C1Err = 0.011\n",
    "\n",
    "xim1 = 2.27\n",
    "xim1Err = 0.05\n",
    "\n",
    "B = 0.544\n",
    "Berr=0.004"
   ]
  },
  {
   "cell_type": "code",
   "execution_count": 13,
   "metadata": {},
   "outputs": [
    {
     "data": {
      "text/plain": [
       "0.12105254980990032"
      ]
     },
     "execution_count": 13,
     "metadata": {},
     "output_type": "execute_result"
    }
   ],
   "source": [
    "B**2 / C1 * (1.0 /  xim1)**3 "
   ]
  },
  {
   "cell_type": "code",
   "execution_count": 14,
   "metadata": {},
   "outputs": [
    {
     "data": {
      "text/plain": [
       "0.209"
      ]
     },
     "execution_count": 14,
     "metadata": {},
     "output_type": "execute_result"
    }
   ],
   "source": [
    "C1"
   ]
  },
  {
   "cell_type": "code",
   "execution_count": 2,
   "metadata": {},
   "outputs": [
    {
     "data": {
      "text/plain": [
       "16.666666666666668"
      ]
     },
     "execution_count": 2,
     "metadata": {},
     "output_type": "execute_result"
    }
   ],
   "source": [
    "1.0 / 0.06"
   ]
  },
  {
   "cell_type": "code",
   "execution_count": null,
   "metadata": {},
   "outputs": [],
   "source": []
  }
 ],
 "metadata": {
  "interpreter": {
   "hash": "916dbcbb3f70747c44a77c7bcd40155683ae19c65e1c03b4aa3499c5328201f1"
  },
  "kernelspec": {
   "display_name": "Python 3.8.10 64-bit",
   "language": "python",
   "name": "python3"
  },
  "language_info": {
   "codemirror_mode": {
    "name": "ipython",
    "version": 3
   },
   "file_extension": ".py",
   "mimetype": "text/x-python",
   "name": "python",
   "nbconvert_exporter": "python",
   "pygments_lexer": "ipython3",
   "version": "3.8.10"
  },
  "orig_nbformat": 4
 },
 "nbformat": 4,
 "nbformat_minor": 2
}

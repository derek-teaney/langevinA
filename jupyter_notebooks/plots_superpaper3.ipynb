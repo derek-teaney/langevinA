{
 "cells": [
  {
   "cell_type": "code",
   "execution_count": 2,
   "id": "8bf7b259-01e9-4c00-8147-925997d65369",
   "metadata": {},
   "outputs": [],
   "source": [
    "%%python\n",
    "from IPython.display import IFrame\n",
    "\n",
    "\n",
    "from wand.image import Image as WImage\n",
    "def PDF(fn, size=(600,600)):\n",
    "    img = WImage(filename=fn)\n",
    "    return img\n",
    "\n",
    "\n",
    "\n",
    "\n",
    "#class PDF(object):\n",
    "#  def __init__(self, pdf, size=(600,600)):\n",
    "#   self.pdf = pdf\n",
    "#    self.size = size\n",
    "#\n",
    "#  def _repr_html_(self):\n",
    "#    return '<object data={} type=\\\"application/pdf\\\" width=\\\"700px\\\" height=\\\"700px\\\"> <embed src={}> </embed> </object>'.format(self.pdf, self.pdf)\n",
    "\n",
    "#  def _repr_latex_(self):\n",
    "#    return r'\\includegraphics[width=1.0\\textwidth]{{{0}}}'.format(self.pdf)\n",
    "\n",
    "\n",
    "class PDF(object):\n",
    "  def __init__(self, pdf, size=(600,600)):\n",
    "    self.pdf = pdf\n",
    "    self.size = size\n",
    "\n",
    "  def _repr_html_(self):\n",
    "    return '<iframe src={0} width={1[0]} height={1[1]}></iframe>'.format(self.pdf, self.size)\n",
    "\n",
    "  def _repr_latex_(self):\n",
    "    return r'\\includegraphics[width=1.0\\textwidth]{{{0}}}'.format(self.pdf)\n",
    "\n",
    "gdir = '../gnuplot_data/'\n"
   ]
  },
  {
   "cell_type": "code",
   "execution_count": 418,
   "id": "c28a27d8-47fa-4845-809d-d688bab67c3e",
   "metadata": {},
   "outputs": [],
   "source": [
    "gdir = '../gnuplot_data/'\n",
    "\n",
    "set style line 1 pt 3 lw 3 ps 0.5 lc rgb \"red\"\n",
    "set style line 2 pt 3 lw 3 ps 0.5 lc rgb \"dark-spring-green\"\n",
    "set style line 3 pt 3 lw 3 ps 0.5 lc rgb \"medium-blue\"\n",
    "set style line 4 pt 3 lw 3 ps 0.5 lc rgb \"dark-violet\"\n",
    "set style line 5 pt 3 lw 3 ps 0.5 lc rgb \"#FF9300\"\n",
    "set style line 6 lw 3 ps 2 lc rgb \"dark-pink\"\n",
    "set style line 7 lw 3 ps 2 lc rgb \"dark-grey\"\n",
    "set style line 8 lw 3 ps 2 lc rgb \"dark-orange\"\n",
    "set style line 9 pt 7 dt 3 lw 5 ps 0.5 lc rgb \"black\"\n",
    " set linetype cycle  9\n",
    " \n",
    "set style fill transparent solid 0.3 noborder\n",
    "set key samplen 2\n",
    "set key spacing 1"
   ]
  },
  {
   "cell_type": "markdown",
   "id": "503ba1ad-eab8-4c69-9e5f-2b2984bd44bf",
   "metadata": {},
   "source": [
    " <meta http-equiv=\"Content-Security-Policy\" content=\"upgrade-insecure-requests\"></meta> "
   ]
  },
  {
   "cell_type": "markdown",
   "id": "596c6747-5138-4e5d-ae29-e5b1139bf088",
   "metadata": {},
   "source": [
    "# Critical line"
   ]
  },
  {
   "cell_type": "code",
   "execution_count": 419,
   "id": "b9437cac-cb27-4391-ba61-ab94649d0958",
   "metadata": {},
   "outputs": [
    {
     "data": {
      "text/plain": [
       "set terminal  pdfcairo lw 0.5 size 6.1,2.2 font \"Helvetica,14\" \n",
       "\n",
       "Terminal type is now 'pdfcairo'\n",
       "Options are ' transparent enhanced font \"Helvetica,14\" fontscale 0.5 size 6.10in, 2.20in  linewidth 0.5'\n",
       "plot gdir.'zcritical_N080_m-0481100_h002000_c00500_OtOttp_A.txt'  using 1:($2+$4):($2-$4)  with filledcurves title 'H=0.002' ls 1,          '' with lines notitle ls 1,       gdir.'zcritical_N080_m-0481100_h003000_c00500_OtOttp_A.txt'  using 1:($2+$4):($2-$4)  with filledcurves title 'H=0.003' ls 2,          '' with lines notitle ls 2,        gdir.'zcritical_N080_m-0481100_h004000_c00500_OtOttp_A.txt'  using 1:($2+$4):($2-$4)  with filledcurves title 'H=0.004' ls 3,          '' with lines notitle ls 3,        gdir.'zcritical_N080_m-0481100_h006000_c00500_OtOttp_A.txt'  using 1:($2+$4):($2-$4)  with filledcurves title 'H=0.006' ls 4,          '' with lines notitle ls 4,        gdir.'zcritical_N080_m-0481100_h010000_c00500_OtOttp_A.txt'  using 1:($2+$4):($2-$4)  with filledcurves title 'H=0.01' ls 5,          '' with lines notitle ls 5\n",
       "multiplot> \n",
       "multiplot> \n",
       "multiplot> \n",
       "multiplot> \n",
       "multiplot> \n",
       "multiplot> \n"
      ]
     },
     "execution_count": 419,
     "metadata": {},
     "output_type": "execute_result"
    }
   ],
   "source": [
    "set terminal  pdfcairo lw 0.5 size 6.1,2.2 font \"Helvetica,14\" \n",
    "\n",
    "\n",
    "\n",
    "name = gdir.'critical_line_1.pdf'\n",
    "system \"rm \".name\n",
    "set out name\n",
    "\n",
    "set multiplot layout 1,2\n",
    "\n",
    "set key right top\n",
    "\n",
    "# G(t) for 4 different magnetic fields\n",
    "\n",
    "set xrange[0:2000]\n",
    "set yrange [-0.45:1.05]\n",
    "set xlabel 't'\n",
    "set ylabel 'G_{AA}(t)/χ_0'\n",
    "\n",
    "plot gdir.'zcritical_N080_m-0481100_h002000_c00500_OtOttp_A.txt'  using 1:($2+$4):($2-$4)  with filledcurves title 'H=0.002' ls 1, \\\n",
    "        '' with lines notitle ls 1, \\\n",
    "     gdir.'zcritical_N080_m-0481100_h003000_c00500_OtOttp_A.txt'  using 1:($2+$4):($2-$4)  with filledcurves title 'H=0.003' ls 2, \\\n",
    "        '' with lines notitle ls 2,  \\\n",
    "     gdir.'zcritical_N080_m-0481100_h004000_c00500_OtOttp_A.txt'  using 1:($2+$4):($2-$4)  with filledcurves title 'H=0.004' ls 3, \\\n",
    "        '' with lines notitle ls 3,  \\\n",
    "     gdir.'zcritical_N080_m-0481100_h006000_c00500_OtOttp_A.txt'  using 1:($2+$4):($2-$4)  with filledcurves title 'H=0.006' ls 4, \\\n",
    "        '' with lines notitle ls 4,  \\\n",
    "     gdir.'zcritical_N080_m-0481100_h010000_c00500_OtOttp_A.txt'  using 1:($2+$4):($2-$4)  with filledcurves title 'H=0.01' ls 5, \\\n",
    "        '' with lines notitle ls 5\n",
    "     \n",
    "\n",
    "\n",
    "# G(\\omega) for 4 different magnetic fields\n",
    "\n",
    "set xlabel 'ω'\n",
    "set ylabel 'G_{AA}(ω)/χ_0'\n",
    "\n",
    "\n",
    "set xrange[-0.06:0.06]\n",
    "set yrange [0:350]\n",
    "\n",
    "plot gdir.'zcritical_N080_m-0481100_h002000_c00500_OtOttpFourier_A.txt'  using 1:($2+$4):($2-$4)  with filledcurves title '' ls 1, \\\n",
    "        '' with lines notitle ls 1, \\\n",
    "     gdir.'zcritical_N080_m-0481100_h003000_c00500_OtOttpFourier_A.txt'  using 1:($2+$4):($2-$4)  with filledcurves title '' ls 2, \\\n",
    "        '' with lines notitle ls 2,  \\\n",
    "     gdir.'zcritical_N080_m-0481100_h004000_c00500_OtOttpFourier_A.txt'  using 1:($2+$4):($2-$4)  with filledcurves title '' ls 3, \\\n",
    "        '' with lines notitle ls 3,  \\\n",
    "     gdir.'zcritical_N080_m-0481100_h006000_c00500_OtOttpFourier_A.txt'  using 1:($2+$4):($2-$4)  with filledcurves title '' ls 4, \\\n",
    "        '' with lines notitle ls 4,  \\\n",
    "     gdir.'zcritical_N080_m-0481100_h010000_c00500_OtOttpFourier_A.txt'  using 1:($2+$4):($2-$4)  with filledcurves title '' ls 5, \\\n",
    "        '' with lines notitle  ls 5\n",
    "    \n",
    "\n",
    "unset multiplot\n",
    "set out;"
   ]
  },
  {
   "cell_type": "code",
   "execution_count": 420,
   "id": "a2b7fa0f-2b29-4463-a956-cc3338a47378",
   "metadata": {},
   "outputs": [
    {
     "data": {
      "text/html": [
       "<iframe src=../gnuplot_data/critical_line_1.pdf width=600 height=600></iframe>"
      ],
      "text/latex": [
       "\\includegraphics[width=1.0\\textwidth]{../gnuplot_data/critical_line_1.pdf}"
      ],
      "text/plain": [
       "<PDF object at 0x7fd6a975afa0>"
      ]
     },
     "execution_count": 420,
     "metadata": {},
     "output_type": "execute_result"
    }
   ],
   "source": [
    "%%python\n",
    "PDF(gdir+'critical_line_1.pdf')"
   ]
  },
  {
   "cell_type": "code",
   "execution_count": 421,
   "id": "1a921857-9cfe-4168-8e82-fec82e9ea027",
   "metadata": {},
   "outputs": [
    {
     "data": {
      "text/plain": [
       "set terminal  pdfcairo lw 0.5 size 6.1,2.2 font \"Helvetica,14\" \n",
       "\n",
       "Terminal type is now 'pdfcairo'\n",
       "Options are ' transparent enhanced font \"Helvetica,14\" fontscale 0.5 size 6.10in, 2.20in  linewidth 0.5'\n",
       "plot gdir.'zcritical_N080_m-0481100_h002000_c00500_OtOttp_A_rescaled.txt'  using 1:($2+$4):($2-$4)  with filledcurves title 'H=0.002' ls 1,          '' with lines notitle ls 1,       gdir.'zcritical_N080_m-0481100_h003000_c00500_OtOttp_A_rescaled.txt'  using 1:($2+$4):($2-$4)  with filledcurves title 'H=0.003' ls 2,          '' with lines notitle ls 2,        gdir.'zcritical_N080_m-0481100_h004000_c00500_OtOttp_A_rescaled.txt'  using 1:($2+$4):($2-$4)  with filledcurves title 'H=0.004' ls 3,          '' with lines notitle ls 3,        gdir.'zcritical_N080_m-0481100_h006000_c00500_OtOttp_A_rescaled.txt'  using 1:($2+$4):($2-$4)  with filledcurves title 'H=0.006' ls 4,          '' with lines notitle ls 4,        gdir.'zcritical_N080_m-0481100_h010000_c00500_OtOttp_A_rescaled.txt'  using 1:($2+$4):($2-$4)  with filledcurves title 'H=0.01' ls 5,          '' with lines notitle ls 5 \n",
       "multiplot> \n",
       "multiplot> \n",
       "multiplot> \n",
       "multiplot> \n",
       "multiplot> \n",
       "multiplot> \n",
       "multiplot> \n",
       "multiplot> \n"
      ]
     },
     "execution_count": 421,
     "metadata": {},
     "output_type": "execute_result"
    }
   ],
   "source": [
    "set terminal  pdfcairo lw 0.5 size 6.1,2.2 font \"Helvetica,14\" \n",
    "\n",
    "name = gdir.'critical_line_2.pdf'\n",
    "system \"rm \".name\n",
    "set out name\n",
    "\n",
    "set multiplot layout 1,2\n",
    "\n",
    "# G(t) for 4 different magnetic fields\n",
    "\n",
    "#rescaling to extract the critical exponent\n",
    "\n",
    "set xlabel 'H_1/H_{2}'\n",
    "set ylabel 't_{min}(H_2)/t_{min}(H_1)'\n",
    "set xrange[0.1:0.8]\n",
    "set yrange [0.3:1]\n",
    "f(x)=x**0.597\n",
    "g(x)=x**0.587\n",
    "\n",
    "set key right top\n",
    "\n",
    "plot gdir.'rescaling_from_min.txt' using 1:2:3 with yerrorbars title '', \\\n",
    "        x**0.592 title '', \\\n",
    "        '+' using 1:(g($1)):(f($1)) with filledcurves title \"(H_1/H_{2})^{ (1.47 {/Symbol \\261} 0.01) {/Symbol \\327} ν_c}\"\n",
    "        \n",
    "\n",
    "set xrange[0:1500]\n",
    "set yrange [-0.45:1.05]\n",
    "set xlabel 't{/Symbol \\327}(0.002/H)^{ 1.47 {/Symbol \\327} ν_c}'\n",
    "set ylabel 'G_{AA}(t)/χ_0'\n",
    "\n",
    "plot gdir.'zcritical_N080_m-0481100_h002000_c00500_OtOttp_A_rescaled.txt'  using 1:($2+$4):($2-$4)  with filledcurves title 'H=0.002' ls 1, \\\n",
    "        '' with lines notitle ls 1, \\\n",
    "     gdir.'zcritical_N080_m-0481100_h003000_c00500_OtOttp_A_rescaled.txt'  using 1:($2+$4):($2-$4)  with filledcurves title 'H=0.003' ls 2, \\\n",
    "        '' with lines notitle ls 2,  \\\n",
    "     gdir.'zcritical_N080_m-0481100_h004000_c00500_OtOttp_A_rescaled.txt'  using 1:($2+$4):($2-$4)  with filledcurves title 'H=0.004' ls 3, \\\n",
    "        '' with lines notitle ls 3,  \\\n",
    "     gdir.'zcritical_N080_m-0481100_h006000_c00500_OtOttp_A_rescaled.txt'  using 1:($2+$4):($2-$4)  with filledcurves title 'H=0.006' ls 4, \\\n",
    "        '' with lines notitle ls 4,  \\\n",
    "     gdir.'zcritical_N080_m-0481100_h010000_c00500_OtOttp_A_rescaled.txt'  using 1:($2+$4):($2-$4)  with filledcurves title 'H=0.01' ls 5, \\\n",
    "        '' with lines notitle ls 5 \n",
    "  \n",
    "#rescaled \\rho  \n",
    "\n",
    "\n",
    "      \n",
    "\n",
    "        \n",
    "unset multiplot\n",
    "set out;"
   ]
  },
  {
   "cell_type": "code",
   "execution_count": 422,
   "id": "a4bbc06b-0563-4956-8a9a-b11258f1c7e4",
   "metadata": {},
   "outputs": [
    {
     "data": {
      "text/html": [
       "<iframe src=../gnuplot_data/critical_line_2.pdf width=600 height=600></iframe>"
      ],
      "text/latex": [
       "\\includegraphics[width=1.0\\textwidth]{../gnuplot_data/critical_line_2.pdf}"
      ],
      "text/plain": [
       "<PDF object at 0x7fd6a9761730>"
      ]
     },
     "execution_count": 422,
     "metadata": {},
     "output_type": "execute_result"
    }
   ],
   "source": [
    "%%python\n",
    "PDF(gdir+'critical_line_2.pdf')"
   ]
  },
  {
   "cell_type": "code",
   "execution_count": 423,
   "id": "6c7116b6-84dc-4ac1-bcbb-bf903db81038",
   "metadata": {},
   "outputs": [
    {
     "data": {
      "text/plain": [
       "set terminal  pdfcairo lw 0.5 size 6.1,2.2 font \"Helvetica,14\" \n",
       "\n",
       "Terminal type is now 'pdfcairo'\n",
       "Options are ' transparent enhanced font \"Helvetica,14\" fontscale 0.5 size 6.10in, 2.20in  linewidth 0.5'\n"
      ]
     },
     "execution_count": 423,
     "metadata": {},
     "output_type": "execute_result"
    }
   ],
   "source": [
    "set terminal  pdfcairo lw 0.5 size 6.1,2.2 font \"Helvetica,14\" \n",
    "\n",
    "name = gdir.'critical_line_3.pdf'\n",
    "system \"rm \".name\n",
    "set out name\n",
    "\n",
    "set multiplot layout 1,2\n",
    "\n",
    "# G(t) for 4 different magnetic fields\n",
    "\n",
    "set key right top\n",
    "\n",
    "# \\rho for 4 different magnetic fields\n",
    "\n",
    "#set xlabel 't (H_{ref} / H)^{ν_c z}'\n",
    "set ylabel 'ρ_{AA}/χ_0'\n",
    "set xrange[0:0.06]\n",
    "set yrange [0:3]\n",
    "\n",
    "plot gdir.'zcritical_N080_m-0481100_h002000_c00500_OtOttpFourier_A_spectral.txt'  using 1:($2+$4):($2-$4)  with filledcurves title 'H=0.002' ls 1, \\\n",
    "        '' with lines notitle ls 1, \\\n",
    "     gdir.'zcritical_N080_m-0481100_h003000_c00500_OtOttpFourier_A_spectral.txt'  using 1:($2+$4):($2-$4)  with filledcurves title 'H=0.003' ls 2, \\\n",
    "        '' with lines notitle ls 2,  \\\n",
    "     gdir.'zcritical_N080_m-0481100_h004000_c00500_OtOttpFourier_A_spectral.txt'  using 1:($2+$4):($2-$4)  with filledcurves title 'H=0.004' ls 3, \\\n",
    "        '' with lines notitle ls 3,  \\\n",
    "     gdir.'zcritical_N080_m-0481100_h006000_c00500_OtOttpFourier_A_spectral.txt'  using 1:($2+$4):($2-$4)  with filledcurves title 'H=0.006' ls 4, \\\n",
    "        '' with lines notitle ls 4,  \\\n",
    "     gdir.'zcritical_N080_m-0481100_h010000_c00500_OtOttpFourier_A_spectral.txt'  using 1:($2+$4):($2-$4)  with filledcurves title 'H=0.01' ls 5, \\\n",
    "        '' with lines notitle ls 5 \n",
    "      \n",
    "      \n",
    "  \n",
    "#rescaled \\rho  \n",
    "\n",
    "set ylabel 'ρ_{AA}/χ_0'\n",
    "set xlabel 'ω {/Symbol \\327} (0.002/H)^{ 1.47 {/Symbol \\327} ν_c}'\n",
    "set xrange[0:0.025]\n",
    "set yrange [0:3]\n",
    "\n",
    "plot gdir.'zcritical_N080_m-0481100_h002000_c00500_OtOttpFourier_A_spectral_rescaled.txt'  using 1:($2+$4):($2-$4)  with filledcurves title '' ls 1, \\\n",
    "        '' with lines notitle ls 1, \\\n",
    "     gdir.'zcritical_N080_m-0481100_h003000_c00500_OtOttpFourier_A_spectral_rescaled.txt'  using 1:($2+$4):($2-$4)  with filledcurves title '' ls 2, \\\n",
    "        '' with lines notitle ls 2,  \\\n",
    "     gdir.'zcritical_N080_m-0481100_h004000_c00500_OtOttpFourier_A_spectral_rescaled.txt'  using 1:($2+$4):($2-$4)  with filledcurves title '' ls 3, \\\n",
    "        '' with lines notitle ls 3,  \\\n",
    "     gdir.'zcritical_N080_m-0481100_h006000_c00500_OtOttpFourier_A_spectral_rescaled.txt'  using 1:($2+$4):($2-$4)  with filledcurves title '' ls 4, \\\n",
    "        '' with lines notitle ls 4,  \\\n",
    "     gdir.'zcritical_N080_m-0481100_h010000_c00500_OtOttpFourier_A_spectral_rescaled.txt'  using 1:($2+$4):($2-$4)  with filledcurves title '' ls 5, \\\n",
    "        '' with lines notitle ls 5         \n",
    "\n",
    "unset multiplot\n",
    "set out;"
   ]
  },
  {
   "cell_type": "code",
   "execution_count": 424,
   "id": "016636b0-ea6f-4d25-ade7-6cc9ebd6c7bd",
   "metadata": {},
   "outputs": [
    {
     "data": {
      "text/html": [
       "<iframe src=../gnuplot_data/critical_line_3.pdf width=600 height=600></iframe>"
      ],
      "text/latex": [
       "\\includegraphics[width=1.0\\textwidth]{../gnuplot_data/critical_line_3.pdf}"
      ],
      "text/plain": [
       "<PDF object at 0x7fd6a97614f0>"
      ]
     },
     "execution_count": 424,
     "metadata": {},
     "output_type": "execute_result"
    }
   ],
   "source": [
    "%%python\n",
    "PDF(gdir+'critical_line_3.pdf')"
   ]
  },
  {
   "cell_type": "code",
   "execution_count": 425,
   "id": "6d06da39-f20c-4a55-a388-e277b59db141",
   "metadata": {},
   "outputs": [
    {
     "data": {
      "text/plain": [
       "set terminal  pdfcairo lw 0.5 size 6.1,2.2 font \"Helvetica,14\" \n",
       "\n",
       "Terminal type is now 'pdfcairo'\n",
       "Options are ' transparent enhanced font \"Helvetica,14\" fontscale 0.5 size 6.10in, 2.20in  linewidth 0.5'\n",
       "plot gdir.'zcritical_N080_m-0481100_h002000_c00500_OtOttpFourier_dsigma.txt'  using 1:($2+$4):($2-$4)  with filledcurves title 'H=0.002'  ls 1,          '' with lines notitle ls 1,       gdir.'zcritical_N080_m-0481100_h003000_c00500_OtOttpFourier_dsigma.txt'  using 1:($2+$4):($2-$4)  with filledcurves title 'H=0.003' ls 2,          '' with lines notitle ls 2,        gdir.'zcritical_N080_m-0481100_h004000_c00500_OtOttpFourier_dsigma.txt'  using 1:($2+$4):($2-$4)  with filledcurves title 'H=0.004' ls 3,          '' with lines notitle ls 3,        gdir.'zcritical_N080_m-0481100_h006000_c00500_OtOttpFourier_dsigma.txt'  using 1:($2+$4):($2-$4)  with filledcurves title 'H=0.006' ls 4,          '' with lines notitle ls 4,        gdir.'zcritical_N080_m-0481100_h010000_c00500_OtOttpFourier_dsigma.txt'  using 1:($2+$4):($2-$4)  with filledcurves title 'H=0.01' ls 5,          '' with lines notitle ls 5 \n",
       "multiplot> \n",
       "multiplot> \n",
       "multiplot> \n",
       "multiplot> \n",
       "\n",
       "multiplot> \n",
       "multiplot> \n",
       "multiplot> \n",
       "multiplot> \n"
      ]
     },
     "execution_count": 425,
     "metadata": {},
     "output_type": "execute_result"
    }
   ],
   "source": [
    "set terminal  pdfcairo lw 0.5 size 6.1,2.2 font \"Helvetica,14\" \n",
    "\n",
    "name = gdir.'critical_line_dsigma.pdf'\n",
    "system \"rm \".name\n",
    "set out name\n",
    "\n",
    "set multiplot layout 1,2\n",
    "\n",
    "\n",
    "# G(\\omega) for 4 different magnetic fields\n",
    "\n",
    "set xlabel 'ω'\n",
    "set ylabel 'G_{δσδσ}(ω)/χ_{||}'\n",
    "\n",
    "\n",
    "set xrange[-0.35:0.35]\n",
    "set yrange [0:75]\n",
    "\n",
    "\n",
    "plot gdir.'zcritical_N080_m-0481100_h002000_c00500_OtOttpFourier_dsigma.txt'  using 1:($2+$4):($2-$4)  with filledcurves title 'H=0.002'  ls 1, \\\n",
    "        '' with lines notitle ls 1, \\\n",
    "     gdir.'zcritical_N080_m-0481100_h003000_c00500_OtOttpFourier_dsigma.txt'  using 1:($2+$4):($2-$4)  with filledcurves title 'H=0.003' ls 2, \\\n",
    "        '' with lines notitle ls 2,  \\\n",
    "     gdir.'zcritical_N080_m-0481100_h004000_c00500_OtOttpFourier_dsigma.txt'  using 1:($2+$4):($2-$4)  with filledcurves title 'H=0.004' ls 3, \\\n",
    "        '' with lines notitle ls 3,  \\\n",
    "     gdir.'zcritical_N080_m-0481100_h006000_c00500_OtOttpFourier_dsigma.txt'  using 1:($2+$4):($2-$4)  with filledcurves title 'H=0.006' ls 4, \\\n",
    "        '' with lines notitle ls 4,  \\\n",
    "     gdir.'zcritical_N080_m-0481100_h010000_c00500_OtOttpFourier_dsigma.txt'  using 1:($2+$4):($2-$4)  with filledcurves title 'H=0.01' ls 5, \\\n",
    "        '' with lines notitle ls 5 \n",
    "    \n",
    "\n",
    "  \n",
    "#rescaled \\rho  \n",
    "\n",
    "set ylabel 'ρ_{δσδσ}(ω)/χ_{||}'\n",
    "set xlabel 'ω {/Symbol \\327} (0.002/H)^{ 1.47 {/Symbol \\327} ν_c}'\n",
    "set xrange[0:0.25]\n",
    "set yrange [0:1.2]\n",
    "\n",
    "plot gdir.'zcritical_N080_m-0481100_h002000_c00500_OtOttpFourier_dsigma_spectral_rescaled.txt'  using 1:($2+$4):($2-$4)  with filledcurves title '' ls 1, \\\n",
    "        '' with lines notitle ls 1, \\\n",
    "     gdir.'zcritical_N080_m-0481100_h003000_c00500_OtOttpFourier_dsigma_spectral_rescaled.txt'  using 1:($2+$4):($2-$4)  with filledcurves title '' ls 2, \\\n",
    "        '' with lines notitle ls 2,  \\\n",
    "     gdir.'zcritical_N080_m-0481100_h004000_c00500_OtOttpFourier_dsigma_spectral_rescaled.txt'  using 1:($2+$4):($2-$4)  with filledcurves title '' ls 3, \\\n",
    "        '' with lines notitle ls 3,  \\\n",
    "     gdir.'zcritical_N080_m-0481100_h006000_c00500_OtOttpFourier_dsigma_spectral_rescaled.txt'  using 1:($2+$4):($2-$4)  with filledcurves title '' ls 4, \\\n",
    "        '' with lines notitle ls 4,  \\\n",
    "     gdir.'zcritical_N080_m-0481100_h010000_c00500_OtOttpFourier_dsigma_spectral_rescaled.txt'  using 1:($2+$4):($2-$4)  with filledcurves title '' ls 5, \\\n",
    "        '' with lines notitle ls 5         \n",
    "\n",
    "unset multiplot\n",
    "set out;"
   ]
  },
  {
   "cell_type": "code",
   "execution_count": 426,
   "id": "f83175cd-2bfd-49ab-9a11-0c56eb2b9f26",
   "metadata": {},
   "outputs": [
    {
     "data": {
      "text/html": [
       "<iframe src=../gnuplot_data/critical_line_dsigma.pdf width=600 height=600></iframe>"
      ],
      "text/latex": [
       "\\includegraphics[width=1.0\\textwidth]{../gnuplot_data/critical_line_dsigma.pdf}"
      ],
      "text/plain": [
       "<PDF object at 0x7fd6c8239670>"
      ]
     },
     "execution_count": 426,
     "metadata": {},
     "output_type": "execute_result"
    }
   ],
   "source": [
    "%%python\n",
    "PDF(gdir+'critical_line_dsigma.pdf')"
   ]
  },
  {
   "cell_type": "markdown",
   "id": "d3eb731d-1db5-479e-9d8e-12036dc4a879",
   "metadata": {},
   "source": [
    "# Unbroken phase"
   ]
  },
  {
   "cell_type": "code",
   "execution_count": 427,
   "id": "d510b1c5-5235-4c40-8307-30fdf40b6b14",
   "metadata": {},
   "outputs": [
    {
     "data": {
      "text/plain": [
       "set terminal  pdfcairo lw 0.5 size 6.1,2.2 font \"Helvetica,14\" \n",
       "\n",
       "Terminal type is now 'pdfcairo'\n",
       "Options are ' transparent enhanced font \"Helvetica,14\" fontscale 0.5 size 6.10in, 2.20in  linewidth 0.5'\n",
       "plot gdir.'zplus_N080_m-0449406_h003000_c00500_OtOttp_A.txt'  using 1:($2+$4):($2-$4)  with filledcurves title 'G_{AA}' ls 1,          '' with lines notitle ls 1,       gdir.'zplus_N080_m-0449406_h003000_c00500_OtOttp_dsigma.txt'  using 1:($2+$4):($2-$4)  with filledcurves title 'G_{δσδσ}' ls 2,          '' with lines notitle ls 2,        gdir.'zplus_N080_m-0449406_h003000_c00500_OtOttp_phi.txt'  using 1:($2+$4):($2-$4)  with filledcurves title 'G_{ϕϕ}' ls 3,          '' with lines notitle ls 3  \n",
       "multiplot> \n",
       "multiplot> \n",
       "multiplot> \n",
       "multiplot> \n",
       "multiplot> \n",
       "multiplot> \n",
       "multiplot> \n",
       "multiplot> \n"
      ]
     },
     "execution_count": 427,
     "metadata": {},
     "output_type": "execute_result"
    }
   ],
   "source": [
    "set terminal  pdfcairo lw 0.5 size 6.1,2.2 font \"Helvetica,14\" \n",
    "\n",
    "name = gdir.'unbroken_phase.pdf'\n",
    "system \"rm \".name\n",
    "set out name\n",
    "\n",
    "\n",
    "\n",
    "set multiplot layout 1,2\n",
    "\n",
    "set key left bottom\n",
    "\n",
    "#rescaled G(t)\n",
    "\n",
    "set xrange[0.01:9000]\n",
    "set yrange [0:1.2]\n",
    "set xlabel 't'\n",
    "set ylabel 'G(t)/χ'\n",
    "set logscale x\n",
    "\n",
    "plot gdir.'zplus_N080_m-0449406_h003000_c00500_OtOttp_A.txt'  using 1:($2+$4):($2-$4)  with filledcurves title 'G_{AA}' ls 1, \\\n",
    "        '' with lines notitle ls 1, \\\n",
    "     gdir.'zplus_N080_m-0449406_h003000_c00500_OtOttp_dsigma.txt'  using 1:($2+$4):($2-$4)  with filledcurves title 'G_{δσδσ}' ls 2, \\\n",
    "        '' with lines notitle ls 2,  \\\n",
    "     gdir.'zplus_N080_m-0449406_h003000_c00500_OtOttp_phi.txt'  using 1:($2+$4):($2-$4)  with filledcurves title 'G_{ϕϕ}' ls 3, \\\n",
    "        '' with lines notitle ls 3  \n",
    "#rescaled \\rho  \n",
    "\n",
    "unset logscale x\n",
    "set ylabel 'ρ/χ'\n",
    "set xlabel 'ω'\n",
    "set xrange[-0.4:0.4]\n",
    "set yrange [0:54]\n",
    "\n",
    "set key right top\n",
    "\n",
    "\n",
    "plot gdir.'zplus_N080_m-0449406_h003000_c00500_OtOttpFourier_dsigma.txt'  using 1:($2+$4):($2-$4)  with filledcurves title 'G_{δσδσ}' ls 2, \\\n",
    "        '' with lines notitle ls 2, \\\n",
    "     gdir.'zplus_N080_m-0449406_h003000_c00500_OtOttpFourier_phi.txt'  using 1:($2+$4):($2-$4)  with filledcurves title 'G_{ϕϕ}' ls 3, \\\n",
    "        '' with lines notitle ls 3\n",
    "    \n",
    "\n",
    "set key right top\n",
    "unset multiplot\n",
    "set out"
   ]
  },
  {
   "cell_type": "code",
   "execution_count": 428,
   "id": "9f0b5f67-51bb-4544-a985-6b5fc79d4286",
   "metadata": {},
   "outputs": [
    {
     "data": {
      "text/html": [
       "<iframe src=../gnuplot_data/unbroken_phase.pdf width=600 height=600></iframe>"
      ],
      "text/latex": [
       "\\includegraphics[width=1.0\\textwidth]{../gnuplot_data/unbroken_phase.pdf}"
      ],
      "text/plain": [
       "<PDF object at 0x7fd6c823ec70>"
      ]
     },
     "execution_count": 428,
     "metadata": {},
     "output_type": "execute_result"
    }
   ],
   "source": [
    "%%python\n",
    "PDF(gdir+'unbroken_phase.pdf')"
   ]
  },
  {
   "cell_type": "markdown",
   "id": "85e4e98d-3de4-4801-a5bf-18294d87ec93",
   "metadata": {},
   "source": [
    "# Broken phase"
   ]
  },
  {
   "cell_type": "code",
   "execution_count": 429,
   "id": "270e1ef0-d84c-4a53-bbb3-f70d47398105",
   "metadata": {},
   "outputs": [
    {
     "data": {
      "text/plain": [
       "set terminal  pdfcairo lw 0.5 size 6.1,2.2 font \"Helvetica,14\" \n",
       "\n",
       "Terminal type is now 'pdfcairo'\n",
       "Options are ' transparent enhanced font \"Helvetica,14\" fontscale 0.5 size 6.10in, 2.20in  linewidth 0.5'\n",
       "plot gdir.'zminus2_N080_m-0499128_h003000_c00500_OtOttp_dsigma.txt'  using 1:($2+$4):($2-$4)  with filledcurves title 'G_{δσδσ}' ls 2,          '' with lines notitle ls 2 ,      gdir.'zminus2_N080_m-0499128_h003000_c00500_OtOttp_phi.txt'  using 1:($2+$4):($2-$4)  with filledcurves title 'G_{ϕϕ}' ls 3,          '' with lines notitle ls 3\n",
       "multiplot> \n",
       "multiplot> \n",
       "multiplot> \n",
       "multiplot> \n"
      ]
     },
     "execution_count": 429,
     "metadata": {},
     "output_type": "execute_result"
    }
   ],
   "source": [
    "set terminal  pdfcairo lw 0.5 size 6.1,2.2 font \"Helvetica,14\" \n",
    "\n",
    "name = gdir.'broken_phase.pdf'\n",
    "system \"rm \".name\n",
    "set out name\n",
    "\n",
    "\n",
    "\n",
    "set multiplot layout 1,2\n",
    "\n",
    "#set format y \"%2.0t{/Symbol \\327}10^{%L}\"\n",
    "\n",
    "# G(t) for 4 different magnetic field\n",
    "\n",
    "unset logscale y\n",
    "set xrange[-10:2000]\n",
    "set yrange [-0.65: 1]\n",
    "set xlabel 't'\n",
    "set ylabel 'G(t)/χ'\n",
    "\n",
    "plot gdir.'zminus2_N080_m-0499128_h003000_c00500_OtOttp_dsigma.txt'  using 1:($2+$4):($2-$4)  with filledcurves title 'G_{δσδσ}' ls 2, \\\n",
    "        '' with lines notitle ls 2 ,\\\n",
    "     gdir.'zminus2_N080_m-0499128_h003000_c00500_OtOttp_phi.txt'  using 1:($2+$4):($2-$4)  with filledcurves title 'G_{ϕϕ}' ls 3, \\\n",
    "        '' with lines notitle ls 3\n",
    "        \n",
    "\n",
    "#set logscale y\n",
    "set xrange[-0.15:0.15]\n",
    "set yrange [0.1:400]\n",
    "set xlabel 'ω'\n",
    "set ylabel 'G(ω)/χ'\n",
    "plot gdir.'zminus2_N080_m-0499128_h003000_c00500_OtOttpFourier_dsigma.txt'  using 1:($2+$4):($2-$4)  with filledcurves title '' ls 2, \\\n",
    "        '' with lines notitle ls 2,\\\n",
    "    gdir.'zminus2_N080_m-0499128_h003000_c00500_OtOttpFourier_phi.txt'  using 1:($2+$4):($2-$4)  with filledcurves title '' ls 3, \\\n",
    "        '' with lines notitle ls 3\n",
    "    \n",
    "     \n",
    "\n",
    "unset multiplot"
   ]
  },
  {
   "cell_type": "code",
   "execution_count": 430,
   "id": "74cd3914-8413-4cf6-b55c-d381d7b1493b",
   "metadata": {},
   "outputs": [
    {
     "data": {
      "text/html": [
       "<iframe src=../gnuplot_data/broken_phase.pdf width=600 height=600></iframe>"
      ],
      "text/latex": [
       "\\includegraphics[width=1.0\\textwidth]{../gnuplot_data/broken_phase.pdf}"
      ],
      "text/plain": [
       "<PDF object at 0x7fd6c823e6a0>"
      ]
     },
     "execution_count": 430,
     "metadata": {},
     "output_type": "execute_result"
    }
   ],
   "source": [
    "%%python\n",
    "PDF(gdir+'broken_phase.pdf')"
   ]
  },
  {
   "cell_type": "code",
   "execution_count": 462,
   "id": "dfcdf7ac-8958-4c0f-8a1a-31e64642942d",
   "metadata": {},
   "outputs": [
    {
     "data": {
      "text/plain": [
       "set terminal  pdfcairo lw 0.5 size 6.1,2.2 font \"Helvetica,14\" \n",
       "\n",
       "Terminal type is now 'pdfcairo'\n",
       "Options are ' transparent enhanced font \"Helvetica,14\" fontscale 0.5 size 6.10in, 2.20in  linewidth 0.5'\n"
      ]
     },
     "execution_count": 462,
     "metadata": {},
     "output_type": "execute_result"
    }
   ],
   "source": [
    "set terminal  pdfcairo lw 0.5 size 6.1,2.2 font \"Helvetica,14\" \n",
    "\n",
    "name = gdir.'broken_phase_fits.pdf'\n",
    "system \"rm \".name\n",
    "set out name\n",
    "\n",
    "set samples 500\n",
    "\n",
    "\n",
    "set multiplot layout 1,2\n",
    "\n",
    "#set format y \"%2.0t{/Symbol \\327}10^{%L}\"\n",
    "\n",
    "# G(t) for 4 different magnetic field\n",
    "\n",
    "set key left top\n",
    "\n",
    "\n",
    "\n",
    "gamma = 0.004806\n",
    "mp = 0.013521\n",
    "\n",
    "mpOaks = 0.0144\n",
    "        \n",
    "GAA(x) = 2.0 * gamma * mp**2 / ((-mp**2+x**2)**2+x**2*gamma**2)\n",
    "GPP(x) = 2.0 * gamma * x**2 / ((-mp**2+x**2)**2+x**2*gamma**2)\n",
    "\n",
    "        \n",
    "set xlabel 'ω'\n",
    "set arrow  from mpOaks,0 to mpOaks,480 nohead  ls 9 \n",
    "set arrow  from -mpOaks,0 to -mpOaks,480 nohead ls 9\n",
    "\n",
    "\n",
    "set key samplen 2\n",
    "set key spacing 1.6\n",
    "      \n",
    "#set logscale y\n",
    "set xrange[-0.05:0.05]\n",
    "set yrange [0.0:480]\n",
    "set xlabel 't'\n",
    "set ylabel 'G_{ϕϕ}(ω)/χ_{/Symbol \\136}'\n",
    "plot GPP(x) dt '_' lw 3 title 'fit', gdir.'zminus2_N080_m-0499128_h003000_c00500_OtOttpFourier_phi.txt'  using 1:($2+$4):($2-$4)  with filledcurves title '' ls 1, \\\n",
    "        '' with lines notitle ls 1, \\\n",
    "        1/0 t \" \" ls 9\n",
    "\n",
    "    \n",
    "\n",
    "#set logscale y\n",
    "set xrange[-0.05:0.05]\n",
    "set yrange [0.00:480]\n",
    "set xlabel 't'\n",
    "set ylabel 'G_{AA}(ω)/χ_{0}'\n",
    "plot GAA(x) dt '_' lw 3 title '', gdir.'zminus2_N080_m-0499128_h003000_c00500_OtOttpFourier_A.txt'  using 1:($2+$4):($2-$4)  with filledcurves title '' ls 3, \\\n",
    "        '' with lines notitle ls 3\n",
    "\n",
    "        \n",
    "set key right top\n",
    "\n",
    "unset arrow\n",
    "unset multiplot"
   ]
  },
  {
   "cell_type": "code",
   "execution_count": 463,
   "id": "c2c1328f-fc62-4424-999f-5117f68c728c",
   "metadata": {},
   "outputs": [
    {
     "data": {
      "text/html": [
       "<iframe src=../gnuplot_data/broken_phase_fits.pdf width=600 height=600></iframe>"
      ],
      "text/latex": [
       "\\includegraphics[width=1.0\\textwidth]{../gnuplot_data/broken_phase_fits.pdf}"
      ],
      "text/plain": [
       "<PDF object at 0x7fd6a975ab80>"
      ]
     },
     "execution_count": 463,
     "metadata": {},
     "output_type": "execute_result"
    }
   ],
   "source": [
    "%%python\n",
    "PDF(gdir+'broken_phase_fits.pdf')"
   ]
  },
  {
   "cell_type": "code",
   "execution_count": 435,
   "id": "19d56376-5a3a-4f1a-b1d4-0ed15ec5a7cb",
   "metadata": {},
   "outputs": [
    {
     "data": {
      "text/plain": [
       "set terminal  pdfcairo lw 0.5 size 6.3,4.2 font \"Helvetica,14\" \n",
       "\n",
       "Terminal type is now 'pdfcairo'\n",
       "Options are ' transparent enhanced font \"Helvetica,14\" fontscale 0.5 size 6.30in, 4.20in  linewidth 0.5'\n"
      ]
     },
     "execution_count": 435,
     "metadata": {},
     "output_type": "execute_result"
    }
   ],
   "source": [
    "set terminal  pdfcairo lw 0.5 size 6.3,4.2 font \"Helvetica,14\" \n",
    "\n",
    "name = gdir.'broken_phase_propagator_phi.pdf'\n",
    "system \"rm \".name\n",
    "set out name\n",
    "\n",
    "set samples 500\n",
    "\n",
    "\n",
    "\n",
    "#set format y \"%2.0t{/Symbol \\327}10^{%L}\"\n",
    "\n",
    "# G(t) for 4 different magnetic field\n",
    "\n",
    "\n",
    "cs = 1.124\n",
    "ms = 0.0877\n",
    "L= 80\n",
    "        \n",
    "D(x) = 1.0 / 2.0 / ms / cs / L**2 * (exp(- ms * x) + exp(- ms * (L-x))) / (1.0 - exp(-ms * L))\n",
    "\n",
    "Dplot(x) = ((x>=14 && x<=66) ? D(x) : (1/0) )\n",
    "\n",
    "\n",
    "msplot(x) = ((x>=14 && x<=66) ? 0.0875 : (1/0) )\n",
    "csplot(x) = ((x>=14 && x<=66) ? 1.118 : (1/0) )\n",
    "    \n",
    "\n",
    "\n",
    "\n",
    "set multiplot layout 2,2\n",
    "set size 1,0.5 # the first one has to be larger\n",
    "set xrange[0:80]\n",
    "set yrange [0.00003:0.001]\n",
    "set logscale y\n",
    "\n",
    "set xlabel 'z'\n",
    "set ylabel 'D_{ϕϕ}(z)/V'\n",
    "plot  Dplot(x) lw 3 dt '_' title 'fit', \\\n",
    "      gdir.'zminus2_N080_m-0499128_h003000_c00500_propagator_phi.txt'  using 1:($2+$4):($2-$4)  with filledcurves title '' ls 2, \\\n",
    "     '' with lines notitle\n",
    "    \n",
    "unset logscale y\n",
    "set xlabel 'z_{in}'\n",
    "\n",
    "set key left top\n",
    "\n",
    "\n",
    "set multiplot next # we want to skip the second (upright position)\n",
    "set size 0.5,0.5 # the second and third have to be 0.5x0.5 \n",
    "unset yrange\n",
    "set ylabel 'f^2/σ^2'\n",
    "plot [0:30] gdir.'f2_from_propagator.txt'  using 1:2:3  with yerrorbars title '' lt 1,\\\n",
    "    csplot(x) lw 3 dt '_' with filledcurve below y=1.13 title 'fit' \n",
    "set ylabel 'm'\n",
    "plot [0:30] gdir.'m2_from_propagator.txt'  using 1:2:3  with yerrorbars title '' lt 1,\\\n",
    "    msplot(x) lw 3 dt '_' with filledcurve below y=0.0879 title 'fit' \n",
    "unset multiplot\n",
    "\n",
    "set key right top\n"
   ]
  },
  {
   "cell_type": "code",
   "execution_count": 436,
   "id": "bdbf0e5f-2f77-4e8c-a312-0e9b25f76d5a",
   "metadata": {},
   "outputs": [
    {
     "data": {
      "text/html": [
       "<iframe src=../gnuplot_data/broken_phase_propagator_phi.pdf width=600 height=600></iframe>"
      ],
      "text/latex": [
       "\\includegraphics[width=1.0\\textwidth]{../gnuplot_data/broken_phase_propagator_phi.pdf}"
      ],
      "text/plain": [
       "<PDF object at 0x7fd6a9761400>"
      ]
     },
     "execution_count": 436,
     "metadata": {},
     "output_type": "execute_result"
    }
   ],
   "source": [
    "%%python\n",
    "PDF(gdir+'broken_phase_propagator_phi.pdf')"
   ]
  },
  {
   "cell_type": "markdown",
   "id": "e47003f8-ed5a-4a14-bd25-3b68df18fade",
   "metadata": {},
   "source": [
    "# Pseudocritical point"
   ]
  },
  {
   "cell_type": "code",
   "execution_count": null,
   "id": "0745b03b-8312-41dd-96aa-bfbd943fad9e",
   "metadata": {},
   "outputs": [],
   "source": [
    "!ls ../gnuplot_data/z1p214_N080_m-0471156_h003000_c00500_OtOttpFourier_A.txt"
   ]
  },
  {
   "cell_type": "code",
   "execution_count": 437,
   "id": "57106e44-fca0-443e-b55c-d2d80c498ab1",
   "metadata": {},
   "outputs": [
    {
     "data": {
      "text/plain": [
       "set terminal  pdfcairo lw 0.5 size 6.1,2.2 font \"Helvetica,14\" \n",
       "\n",
       "Terminal type is now 'pdfcairo'\n",
       "Options are ' transparent enhanced font \"Helvetica,14\" fontscale 0.5 size 6.10in, 2.20in  linewidth 0.5'\n",
       "set key left right\n",
       "                        ^\n",
       "           warning: Multiple horizontal position settings\n",
       "plot gdir.'zpseudocritical_N080_m-0470052_h003000_c00500_OtOttp_A.txt'  using 1:($2+$4):($2-$4)  with filledcurves title 'z_{pc}' ls 1,          '' with lines title '' ls 1,              gdir.'z0p944_N080_m-0473366_h003000_c00500_OtOttp_A.txt'  using 1:($2+$4):($2-$4)  with filledcurves title '0.7z_{pc}' ls 2,  '' with lines title '' ls 2,      gdir.'zcritical_N080_m-0481100_h003000_c00500_OtOttp_A.txt'  using 1:($2+$4):($2-$4)  with filledcurves title 'm_c' ls 3,  '' with lines title '' ls 3,  gdir.'zminus2_N080_m-0499128_h003000_c00500_OtOttp_A.txt'  using 1:($2+$4):($2-$4)  with filledcurves title 'z{/Symbol \\273}-2.2' ls 4,  '' with lines title '' ls 4\n",
       "multiplot> \n",
       "multiplot> \n",
       "multiplot> \n",
       "multiplot> \n",
       "multiplot> \n",
       "multiplot> \n"
      ]
     },
     "execution_count": 437,
     "metadata": {},
     "output_type": "execute_result"
    }
   ],
   "source": [
    "set terminal  pdfcairo lw 0.5 size 6.1,2.2 font \"Helvetica,14\" \n",
    "\n",
    "name = gdir.'overview_axial.pdf'\n",
    "system \"rm \".name\n",
    "set out name\n",
    "\n",
    "set multiplot layout 1,2\n",
    "\n",
    "\n",
    "# G(\\omega) for 4 different magnetic fields\n",
    "\n",
    "\n",
    "    \n",
    "set key right top\n",
    "\n",
    "  \n",
    "#rescaled \\rho  \n",
    "\n",
    "set ylabel 'G_{AA}(t)/χ_0'\n",
    "set xlabel 't'\n",
    "set xrange[0:1500]\n",
    "set yrange [-0.6:1.1]\n",
    "\n",
    "plot gdir.'zpseudocritical_N080_m-0470052_h003000_c00500_OtOttp_A.txt'  using 1:($2+$4):($2-$4)  with filledcurves title 'z_{pc}' ls 1, \\\n",
    "        '' with lines title '' ls 1, \\\n",
    "            gdir.'z0p944_N080_m-0473366_h003000_c00500_OtOttp_A.txt'  using 1:($2+$4):($2-$4)  with filledcurves title '0.7z_{pc}' ls 2, \\\n",
    "'' with lines title '' ls 2, \\\n",
    "    gdir.'zcritical_N080_m-0481100_h003000_c00500_OtOttp_A.txt'  using 1:($2+$4):($2-$4)  with filledcurves title 'm_c' ls 3, \\\n",
    "'' with lines title '' ls 3, \\\n",
    "gdir.'zminus2_N080_m-0499128_h003000_c00500_OtOttp_A.txt'  using 1:($2+$4):($2-$4)  with filledcurves title 'z{/Symbol \\273}-2.2' ls 4, \\\n",
    "'' with lines title '' ls 4\n",
    "        \n",
    "        \n",
    "set xlabel 'ω'\n",
    "set ylabel 'G_{AA}(ω)/χ_0'\n",
    "\n",
    "\n",
    "set xrange[-0.03:0.03]\n",
    "set yrange [0:450]\n",
    "\n",
    "    \n",
    "plot gdir.'zpseudocritical_N080_m-0470052_h003000_c00500_OtOttpFourier_A.txt'  using 1:($2+$4):($2-$4)  with filledcurves title '' ls 1, \\\n",
    "    '' with lines title '' ls 1, \\\n",
    "        gdir.'z0p944_N080_m-0473366_h003000_c00500_OtOttpFourier_A.txt'  using 1:($2+$4):($2-$4)  with filledcurves title '' ls 2, \\\n",
    "    '' with lines title '' ls 2, \\\n",
    "    gdir.'zcritical_N080_m-0481100_h003000_c00500_OtOttpFourier_A.txt'  using 1:($2+$4):($2-$4)  with filledcurves title '' ls 3, \\\n",
    "    '' with lines title '' ls 3, \\\n",
    "    gdir.'zminus2_N080_m-0499128_h003000_c00500_OtOttpFourier_A.txt'  using 1:($2+$4):($2-$4)  with filledcurves title '' ls 4, \\\n",
    "    '' with lines title '' ls 4\n",
    "\n",
    "\n",
    "unset multiplot\n",
    "set out;"
   ]
  },
  {
   "cell_type": "code",
   "execution_count": 438,
   "id": "250cfbd3-c704-46ce-ba68-ccb911c530c0",
   "metadata": {},
   "outputs": [
    {
     "data": {
      "text/html": [
       "<iframe src=../gnuplot_data/overview_axial.pdf width=600 height=600></iframe>"
      ],
      "text/latex": [
       "\\includegraphics[width=1.0\\textwidth]{../gnuplot_data/overview_axial.pdf}"
      ],
      "text/plain": [
       "<PDF object at 0x7fd6a975acd0>"
      ]
     },
     "execution_count": 438,
     "metadata": {},
     "output_type": "execute_result"
    }
   ],
   "source": [
    "%%python\n",
    "PDF(gdir+'overview_axial.pdf')"
   ]
  },
  {
   "cell_type": "code",
   "execution_count": 458,
   "id": "e917f7df-20d7-4e9a-b7ff-ef5b5d7dfef7",
   "metadata": {},
   "outputs": [
    {
     "data": {
      "text/plain": [
       "set terminal  pdfcairo lw 0.5 size 6.1,2.2 font \"Helvetica,14\" \n",
       "\n",
       "Terminal type is now 'pdfcairo'\n",
       "Options are ' transparent enhanced font \"Helvetica,14\" fontscale 0.5 size 6.10in, 2.20in  linewidth 0.5'\n",
       "plot gdir.'zpseudocritical_N080_m-0470052_h003000_c00500_OtOttpFourier_dsigma.txt'  using 1:($2+$4):($2-$4)  with filledcurves title  '' ls 1,      '' with lines title '' ls 1,          gdir.'z0p944_N080_m-0473366_h003000_c00500_OtOttpFourier_dsigma.txt'  using 1:($2+$4):($2-$4)  with filledcurves title '' ls 2,          '' with lines title '' ls 2,      gdir.'zcritical_N080_m-0481100_h003000_c00500_OtOttpFourier_dsigma.txt'  using 1:($2+$4):($2-$4)  with filledcurves title '' ls 3,          '' with lines title '' ls 3,      gdir.'zminus2_N080_m-0499128_h003000_c00500_OtOttpFourier_dsigma.txt'  using 1:($2+$4):($2-$4)  with filledcurves title '' ls 4,          '' with lines title '' ls 4,  \n",
       "multiplot> \n",
       "multiplot> \n"
      ]
     },
     "execution_count": 458,
     "metadata": {},
     "output_type": "execute_result"
    }
   ],
   "source": [
    "set terminal  pdfcairo lw 0.5 size 6.1,2.2 font \"Helvetica,14\" \n",
    "\n",
    "name = gdir.'overview_sigma_phi.pdf'\n",
    "system \"rm \".name\n",
    "set out name\n",
    "\n",
    "set multiplot layout 1,2\n",
    "\n",
    "\n",
    "# G(\\omega) for 4 different magnetic fields\n",
    "\n",
    "\n",
    "    \n",
    "\n",
    "  \n",
    "#rescaled \\rho  \n",
    "\n",
    "set key right top\n",
    "set key samplen 1.7\n",
    "\n",
    "\n",
    "set xlabel 'ω'\n",
    "set ylabel 'G_{ϕϕ}(ω)/χ_{/Symbol \\136}'\n",
    "\n",
    "\n",
    "set xrange[-0.05:0.05]\n",
    "set yrange [00:400]\n",
    "\n",
    "    \n",
    "plot gdir.'zpseudocritical_N080_m-0470052_h003000_c00500_OtOttpFourier_phi.txt'  using 1:($2+$4):($2-$4)  with filledcurves title 'z_{pc}' ls 1, \\\n",
    "    '' with lines title '' ls 1, \\\n",
    "        gdir.'z0p944_N080_m-0473366_h003000_c00500_OtOttpFourier_phi.txt'  using 1:($2+$4):($2-$4)  with filledcurves title '0.7z_{pc}' ls 2, \\\n",
    "        '' with lines title '' ls 2, \\\n",
    "    gdir.'zcritical_N080_m-0481100_h003000_c00500_OtOttpFourier_phi.txt'  using 1:($2+$4):($2-$4)  with filledcurves title 'm_c' ls 3, \\\n",
    "        '' with lines title '' ls 3, \\\n",
    "    gdir.'zminus2_N080_m-0499128_h003000_c00500_OtOttpFourier_phi.txt'  using 1:($2+$4):($2-$4)  with filledcurves title 'z{/Symbol \\273}-2.2' ls 4, \\\n",
    "        '' with lines title '' ls 4, \\\n",
    "\n",
    "\n",
    "\n",
    "        \n",
    "set xlabel 'ω'\n",
    "set ylabel 'G_{δσδσ}(ω)/χ_{||}'\n",
    "\n",
    "\n",
    "\n",
    "set xrange[-0.05:0.05]\n",
    "set yrange [0.1:90]\n",
    "\n",
    "    \n",
    "plot gdir.'zpseudocritical_N080_m-0470052_h003000_c00500_OtOttpFourier_dsigma.txt'  using 1:($2+$4):($2-$4)  with filledcurves title  '' ls 1, \\\n",
    "    '' with lines title '' ls 1, \\\n",
    "        gdir.'z0p944_N080_m-0473366_h003000_c00500_OtOttpFourier_dsigma.txt'  using 1:($2+$4):($2-$4)  with filledcurves title '' ls 2, \\\n",
    "        '' with lines title '' ls 2, \\\n",
    "    gdir.'zcritical_N080_m-0481100_h003000_c00500_OtOttpFourier_dsigma.txt'  using 1:($2+$4):($2-$4)  with filledcurves title '' ls 3, \\\n",
    "        '' with lines title '' ls 3, \\\n",
    "    gdir.'zminus2_N080_m-0499128_h003000_c00500_OtOttpFourier_dsigma.txt'  using 1:($2+$4):($2-$4)  with filledcurves title '' ls 4, \\\n",
    "        '' with lines title '' ls 4, \\\n",
    "\n",
    "\n",
    "\n",
    "\n",
    "unset logscale y\n",
    "set key samplen 2\n",
    "\n",
    "unset multiplot\n",
    "set out;"
   ]
  },
  {
   "cell_type": "code",
   "execution_count": 459,
   "id": "54e6c3ae-e4ab-43ce-90f3-72ccda44033d",
   "metadata": {},
   "outputs": [
    {
     "data": {
      "text/html": [
       "<iframe src=../gnuplot_data/overview_sigma_phi.pdf width=600 height=600></iframe>"
      ],
      "text/latex": [
       "\\includegraphics[width=1.0\\textwidth]{../gnuplot_data/overview_sigma_phi.pdf}"
      ],
      "text/plain": [
       "<PDF object at 0x7fd6a975ae50>"
      ]
     },
     "execution_count": 459,
     "metadata": {},
     "output_type": "execute_result"
    }
   ],
   "source": [
    "%%python\n",
    "PDF(gdir+'overview_sigma_phi.pdf')"
   ]
  },
  {
   "cell_type": "code",
   "execution_count": null,
   "id": "a6d1be49-88e3-49a3-b148-01ff1eb20b95",
   "metadata": {},
   "outputs": [],
   "source": []
  },
  {
   "cell_type": "code",
   "execution_count": null,
   "id": "90189472-d5f3-47dd-bbd1-76e5436d2433",
   "metadata": {},
   "outputs": [],
   "source": []
  }
 ],
 "metadata": {
  "kernelspec": {
   "display_name": "gnuplot",
   "language": "gnuplot",
   "name": "gnuplot"
  },
  "language_info": {
   "codemirror_mode": "Octave",
   "file_extension": ".gp",
   "help_links": [
    {
     "text": "MetaKernel Magics",
     "url": "https://metakernel.readthedocs.io/en/latest/source/README.html"
    }
   ],
   "mimetype": "text/x-gnuplot",
   "name": "gnuplot"
  }
 },
 "nbformat": 4,
 "nbformat_minor": 5
}
